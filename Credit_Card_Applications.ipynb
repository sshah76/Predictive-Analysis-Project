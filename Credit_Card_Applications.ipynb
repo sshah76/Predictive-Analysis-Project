{
  "cells": [
    {
      "cell_type": "markdown",
      "id": "c8bed7fe-0767-4bd3-81e8-b5f69950e697",
      "metadata": {
        "tags": [],
        "id": "c8bed7fe-0767-4bd3-81e8-b5f69950e697"
      },
      "source": [
        "# Predictive Analysis for Credit Card Applications"
      ]
    },
    {
      "cell_type": "markdown",
      "id": "374df668-6bc5-48b4-9e74-60e1e8654d6a",
      "metadata": {
        "id": "374df668-6bc5-48b4-9e74-60e1e8654d6a"
      },
      "source": [
        "## Content\n",
        "### 1.Problem Definition\n",
        "### 2.Introduction and Motivation\n",
        "### 3.Report Summary\n",
        "### 4.Data Ovewview\n",
        "### 5.Data Cleaning Process\n",
        "### 6.Explorartory Analysis\n",
        "### 7.Dashboard\n",
        "### 8.Conclusion"
      ]
    },
    {
      "cell_type": "markdown",
      "id": "e66bb91e-e95f-4609-971c-d0493a230ec1",
      "metadata": {
        "tags": [],
        "id": "e66bb91e-e95f-4609-971c-d0493a230ec1"
      },
      "source": [
        "### 1.Problem Definition:"
      ]
    },
    {
      "cell_type": "markdown",
      "id": "c3aaf7ba-c437-411d-acc6-50f6315e0740",
      "metadata": {
        "id": "c3aaf7ba-c437-411d-acc6-50f6315e0740"
      },
      "source": [
        "Our goal is to explore trends, clusters and relationship between different factors affecting applicants who apply for a loan and compare that to the credit payment behaviour of applicants who were approved for a loan. We will be using SQL and visualizations on a credit card applications dataset. The dataset includes two tables; one for applicants who apply for a loan and other for credit payment behavior of applicants who have a loan."
      ]
    },
    {
      "cell_type": "markdown",
      "id": "9eb7a0f4-fc81-4bcf-9001-5c720bf76995",
      "metadata": {
        "id": "9eb7a0f4-fc81-4bcf-9001-5c720bf76995"
      },
      "source": [
        "The goal of this project is to explore the relationships between various factors and affecting applicants w"
      ]
    },
    {
      "cell_type": "markdown",
      "id": "dd46d8d3-48fb-4bc3-b923-6c9efb61bfd8",
      "metadata": {
        "id": "dd46d8d3-48fb-4bc3-b923-6c9efb61bfd8"
      },
      "source": [
        "### Data Source Link:"
      ]
    },
    {
      "cell_type": "markdown",
      "id": "ee72df05-58d0-4bec-9cc9-4527d734e66a",
      "metadata": {
        "tags": [],
        "id": "ee72df05-58d0-4bec-9cc9-4527d734e66a"
      },
      "source": [
        "Source: Credit Card Approval Prediction (https://www.kaggle.com/datasets/rikdifos/credit-card-approval-prediction)"
      ]
    },
    {
      "cell_type": "markdown",
      "id": "94f492b3-3b2e-4d1c-b909-9b4b192d56f1",
      "metadata": {
        "id": "94f492b3-3b2e-4d1c-b909-9b4b192d56f1"
      },
      "source": [
        "### 2.Introduction and Motivation"
      ]
    },
    {
      "cell_type": "markdown",
      "id": "66b87150-cc69-4ea0-b60c-86f7ee047abe",
      "metadata": {
        "id": "66b87150-cc69-4ea0-b60c-86f7ee047abe"
      },
      "source": [
        "Credit card payment defaults are a huge cause of concern for the banking industry and the outstanding balances have only been increasing with time over the past years. Research has shown that Americans’ total credit card balance is $887 billion in the second quarter of 2022, according to the latest consumer debt data from the Federal Reserve Bank of New York. That’s a $46 billion jump from $841 billion in the first quarter of 2022. Despite the high levels of debt and repayment defaults that the companies face, they must extend their services to more people to gain profits. Our primary goal with this project is to analyze the data of the applicants that have applied for a credit card and understand the factors that contribute to the acceptance of credit card applicants. We will also be using a complimentary dataset consisting of users that did receive the credit card in order to understand the difference in the analysis between the applicants and the card holders. We will be using a publicly available dataset from Kaggle that holds credit card applicants’ data as well as the credit card holders’ data.  "
      ]
    },
    {
      "cell_type": "markdown",
      "id": "1ccae242-deb8-4190-b8de-9de3175f1169",
      "metadata": {
        "id": "1ccae242-deb8-4190-b8de-9de3175f1169"
      },
      "source": [
        "### 3.Report Summary"
      ]
    },
    {
      "cell_type": "markdown",
      "id": "53ec3642-f96b-46a3-a5ff-1b984ea1ce6b",
      "metadata": {
        "id": "53ec3642-f96b-46a3-a5ff-1b984ea1ce6b"
      },
      "source": [
        "Our analysis of the credit card applications proved to be really insightful, and we were able to find some significant observations from the datasets. The most crucial insights from the analysis are as follows:\n",
        "1.As of the applicants that apply for a credit card, a significant portion of them have a lesser income.\n",
        "2.More married people apply for a credit card. We presume this relates to the fact that spending increases with family size increasing and therefore more people find it needful to apply for a credit card.\n",
        "3.On comparison of the demographic between people that apply and the people that do successfully get a credit card, we observed that there does not appear to be a significant difference on factors such as age, gender, or house types. The factors stay consistent among both the groups.\n",
        "4.An interesting observation was that in comparison to the proportion of the categories of occupation types from the people that did apply, few occupations had a higher rate of acceptance even if the age of the applicants were lower. We noticed that IT and Tech jobs had a higher acceptance rate for lower age brackets. This does align factually as people in IT and Tech jobs do have a higher pay, thus increasing their chances of getting a credit card.\n",
        "5.We also observed that the highest percentage of accepted people were having jobs relating to a ‘manager’, proving that they had higher financial stability and decreased risk of defaulting. We also observed that of the applicants, the highest proportion of the people belonged to the labour class."
      ]
    },
    {
      "cell_type": "markdown",
      "id": "ddcc22c3-82d4-4add-8d65-449307d81f51",
      "metadata": {
        "id": "ddcc22c3-82d4-4add-8d65-449307d81f51"
      },
      "source": [
        "### 4.Data Overview:"
      ]
    },
    {
      "cell_type": "markdown",
      "id": "c1e17710-21ea-4971-b4c1-79ab3242a6db",
      "metadata": {
        "id": "c1e17710-21ea-4971-b4c1-79ab3242a6db"
      },
      "source": [
        "The dataset contains two tables: 'application_record' and 'credit_record'"
      ]
    },
    {
      "cell_type": "markdown",
      "id": "e7eb2b82-6339-4ed7-ba39-e77c4d74fb84",
      "metadata": {
        "id": "e7eb2b82-6339-4ed7-ba39-e77c4d74fb84"
      },
      "source": [
        "## Schema & Metadata for 'application_record' table"
      ]
    },
    {
      "cell_type": "markdown",
      "id": "72ca2051-8886-4cfd-98c8-674a1ba405ab",
      "metadata": {
        "id": "72ca2051-8886-4cfd-98c8-674a1ba405ab"
      },
      "source": [
        "| Name | Data Type | Description | Explanation |\n",
        "| --- | --- | --- | --- |\n",
        "| ID | Integer | Client number | - |\n",
        "| CODE_GENDER | String | Gender | - |\n",
        "| FLAG_OWN_CAR | Boolean | Is there a car | - |\n",
        "| FLAG_OWN_REALTY | Boolean | Is there a property | - |\n",
        "| CNT_CHILDREN | Integer | Number of children | - |\n",
        "| AMT_INCOME_TOTAL | Float | Annual income | - |\n",
        "| NAME_INCOME_TYPE | String | Income category | - |\n",
        "| NAME_EDUCATION_TYPE | String | Education level | - |\n",
        "| NAME_FAMILY_STATUS | String | Marital status | - |\n",
        "| NAME_HOUSING_TYPE | String | Way of living | - |\n",
        "| DAYS_BIRTH | Integer | Birthday | Count backwards from current day (0), -1 means yesterday |\n",
        "| DAYS_EMPLOYED | Integer | Start date of employment | Count backwards from current day(0). If positive, it means the person currently unemployed |\n",
        "| FLAG_MOBIL | Integer | Is there a mobile phone | - |\n",
        "| FLAG_WORK_PHONE | Integer | Is there a work phone | - |\n",
        "| FLAG_PHONE | Integer | Is there a phone | - |\n",
        "| FLAG_EMAIL | Integer | Is there an email | - |\n",
        "| OCCUPATION_TYPE | String | Occupation | - |\n",
        "| CNT_FAM_MEMBERS | Float | Family size\t | - |"
      ]
    },
    {
      "cell_type": "code",
      "execution_count": null,
      "id": "b90aee30-6d7c-4af0-b0bf-b49bdd4c09ff",
      "metadata": {
        "id": "b90aee30-6d7c-4af0-b0bf-b49bdd4c09ff",
        "outputId": "6a6213ac-dbe1-4108-a8a9-ac2ec91abeff"
      },
      "outputs": [
        {
          "name": "stderr",
          "output_type": "stream",
          "text": [
            "Query complete after 0.00s: 100%|██████████| 1/1 [00:00<00:00, 247.92query/s]                          \n",
            "Downloading: 100%|██████████| 2/2 [00:01<00:00,  1.43rows/s]\n"
          ]
        },
        {
          "data": {
            "text/html": [
              "<div>\n",
              "<style scoped>\n",
              "    .dataframe tbody tr th:only-of-type {\n",
              "        vertical-align: middle;\n",
              "    }\n",
              "\n",
              "    .dataframe tbody tr th {\n",
              "        vertical-align: top;\n",
              "    }\n",
              "\n",
              "    .dataframe thead th {\n",
              "        text-align: right;\n",
              "    }\n",
              "</style>\n",
              "<table border=\"1\" class=\"dataframe\">\n",
              "  <thead>\n",
              "    <tr style=\"text-align: right;\">\n",
              "      <th></th>\n",
              "      <th>table_catalog</th>\n",
              "      <th>table_schema</th>\n",
              "      <th>table_name</th>\n",
              "      <th>table_type</th>\n",
              "      <th>is_insertable_into</th>\n",
              "      <th>is_typed</th>\n",
              "      <th>creation_time</th>\n",
              "      <th>base_table_catalog</th>\n",
              "      <th>base_table_schema</th>\n",
              "      <th>base_table_name</th>\n",
              "      <th>snapshot_time_ms</th>\n",
              "      <th>ddl</th>\n",
              "      <th>default_collation_name</th>\n",
              "      <th>upsert_stream_apply_watermark</th>\n",
              "    </tr>\n",
              "  </thead>\n",
              "  <tbody>\n",
              "    <tr>\n",
              "      <th>0</th>\n",
              "      <td>ba775-team-project-team3</td>\n",
              "      <td>creditcard</td>\n",
              "      <td>application_record</td>\n",
              "      <td>BASE TABLE</td>\n",
              "      <td>YES</td>\n",
              "      <td>NO</td>\n",
              "      <td>2022-10-04 15:15:23.897000+00:00</td>\n",
              "      <td>None</td>\n",
              "      <td>None</td>\n",
              "      <td>None</td>\n",
              "      <td>NaT</td>\n",
              "      <td>CREATE TABLE `ba775-team-project-team3.creditc...</td>\n",
              "      <td>NULL</td>\n",
              "      <td>NaT</td>\n",
              "    </tr>\n",
              "    <tr>\n",
              "      <th>1</th>\n",
              "      <td>ba775-team-project-team3</td>\n",
              "      <td>creditcard</td>\n",
              "      <td>credit_record</td>\n",
              "      <td>BASE TABLE</td>\n",
              "      <td>YES</td>\n",
              "      <td>NO</td>\n",
              "      <td>2022-10-04 15:39:17.106000+00:00</td>\n",
              "      <td>None</td>\n",
              "      <td>None</td>\n",
              "      <td>None</td>\n",
              "      <td>NaT</td>\n",
              "      <td>CREATE TABLE `ba775-team-project-team3.creditc...</td>\n",
              "      <td>NULL</td>\n",
              "      <td>NaT</td>\n",
              "    </tr>\n",
              "  </tbody>\n",
              "</table>\n",
              "</div>"
            ],
            "text/plain": [
              "              table_catalog table_schema          table_name  table_type  \\\n",
              "0  ba775-team-project-team3   creditcard  application_record  BASE TABLE   \n",
              "1  ba775-team-project-team3   creditcard       credit_record  BASE TABLE   \n",
              "\n",
              "  is_insertable_into is_typed                    creation_time  \\\n",
              "0                YES       NO 2022-10-04 15:15:23.897000+00:00   \n",
              "1                YES       NO 2022-10-04 15:39:17.106000+00:00   \n",
              "\n",
              "  base_table_catalog base_table_schema base_table_name snapshot_time_ms  \\\n",
              "0               None              None            None              NaT   \n",
              "1               None              None            None              NaT   \n",
              "\n",
              "                                                 ddl default_collation_name  \\\n",
              "0  CREATE TABLE `ba775-team-project-team3.creditc...                   NULL   \n",
              "1  CREATE TABLE `ba775-team-project-team3.creditc...                   NULL   \n",
              "\n",
              "  upsert_stream_apply_watermark  \n",
              "0                           NaT  \n",
              "1                           NaT  "
            ]
          },
          "execution_count": 5,
          "metadata": {},
          "output_type": "execute_result"
        }
      ],
      "source": [
        "%%bigquery\n",
        "SELECT * FROM\n",
        "ba775-team-project-team3.creditcard.INFORMATION_SCHEMA.TABLES"
      ]
    },
    {
      "cell_type": "markdown",
      "id": "b2a730ca-b64c-46b8-95d7-09a26ae54e73",
      "metadata": {
        "id": "b2a730ca-b64c-46b8-95d7-09a26ae54e73"
      },
      "source": [
        "#### Preview of 'application_record' table"
      ]
    },
    {
      "cell_type": "markdown",
      "id": "142c3e5e-069a-4e48-a75f-6439273fbe24",
      "metadata": {
        "id": "142c3e5e-069a-4e48-a75f-6439273fbe24"
      },
      "source": [
        "The application_record table contains demographic data of credit card applicants. There are 438557 rows and 18 columns in this table"
      ]
    },
    {
      "cell_type": "code",
      "execution_count": null,
      "id": "cef3fe33-c9b1-47e7-9e47-c51766d6fb23",
      "metadata": {
        "id": "cef3fe33-c9b1-47e7-9e47-c51766d6fb23",
        "outputId": "3d57e112-c63e-4e6c-c528-704ac45d2b03"
      },
      "outputs": [
        {
          "name": "stderr",
          "output_type": "stream",
          "text": [
            "Query complete after 0.00s: 100%|██████████| 2/2 [00:00<00:00, 589.17query/s]                         \n",
            "Downloading: 100%|██████████| 1/1 [00:01<00:00,  1.56s/rows]\n"
          ]
        },
        {
          "data": {
            "text/html": [
              "<div>\n",
              "<style scoped>\n",
              "    .dataframe tbody tr th:only-of-type {\n",
              "        vertical-align: middle;\n",
              "    }\n",
              "\n",
              "    .dataframe tbody tr th {\n",
              "        vertical-align: top;\n",
              "    }\n",
              "\n",
              "    .dataframe thead th {\n",
              "        text-align: right;\n",
              "    }\n",
              "</style>\n",
              "<table border=\"1\" class=\"dataframe\">\n",
              "  <thead>\n",
              "    <tr style=\"text-align: right;\">\n",
              "      <th></th>\n",
              "      <th>f0_</th>\n",
              "    </tr>\n",
              "  </thead>\n",
              "  <tbody>\n",
              "    <tr>\n",
              "      <th>0</th>\n",
              "      <td>6750000.0</td>\n",
              "    </tr>\n",
              "  </tbody>\n",
              "</table>\n",
              "</div>"
            ],
            "text/plain": [
              "         f0_\n",
              "0  6750000.0"
            ]
          },
          "execution_count": 3,
          "metadata": {},
          "output_type": "execute_result"
        }
      ],
      "source": [
        "%%bigquery\n",
        "SELECT *\n",
        "FROM `ba775-team-project-team3.creditcard.application_record`\n",
        "LIMIT 5"
      ]
    },
    {
      "cell_type": "markdown",
      "id": "38852649-e25b-4c9f-89bb-b221c9f43ee5",
      "metadata": {
        "id": "38852649-e25b-4c9f-89bb-b221c9f43ee5"
      },
      "source": [
        "#### Schema & Metadata for 'credit_record' table"
      ]
    },
    {
      "cell_type": "markdown",
      "id": "e509e402-54d4-46ff-b914-243313eb2e20",
      "metadata": {
        "id": "e509e402-54d4-46ff-b914-243313eb2e20"
      },
      "source": [
        "| Name | Data Type | Description | Explanation |\n",
        "| --- | --- | --- | --- |\n",
        "| ID | Integer | Client number | - |\n",
        "| MONTHS_BALANCE | Integer | Record month | The month of the extracted data is the starting point, backwards, 0 is the current month, -1 is the previous month, and so on |\n",
        "| STATUS | String | Status | 0: 1-29 days past due 1: 30-59 days past due 2: 60-89 days overdue 3: 90-119 days overdue 4: 120-149 days overdue 5: Overdue or bad debts, write-offs for more than 150 days C: paid off that month X: No loan for the month |"
      ]
    },
    {
      "cell_type": "markdown",
      "id": "861fcbee-37ca-4f5b-b1f4-9555baa59819",
      "metadata": {
        "id": "861fcbee-37ca-4f5b-b1f4-9555baa59819"
      },
      "source": [
        "#### Preview of 'credit_record' table"
      ]
    },
    {
      "cell_type": "markdown",
      "id": "5357e77f-96da-4b78-82f1-a27130a0a294",
      "metadata": {
        "id": "5357e77f-96da-4b78-82f1-a27130a0a294"
      },
      "source": [
        "The credit_record table contains data of credit card users' behaviors. There are 1048575 rows and 3 columns in this table"
      ]
    },
    {
      "cell_type": "code",
      "execution_count": null,
      "id": "0349874a-58e9-4175-b3c1-81acc6046e79",
      "metadata": {
        "id": "0349874a-58e9-4175-b3c1-81acc6046e79",
        "outputId": "6c9320af-1af8-4b0b-db61-d72d790952c9"
      },
      "outputs": [
        {
          "name": "stderr",
          "output_type": "stream",
          "text": [
            "Query complete after 0.00s: 100%|██████████| 1/1 [00:00<00:00, 865.16query/s] \n",
            "Downloading: 100%|██████████| 5/5 [00:01<00:00,  3.23rows/s]\n"
          ]
        },
        {
          "data": {
            "text/html": [
              "<div>\n",
              "<style scoped>\n",
              "    .dataframe tbody tr th:only-of-type {\n",
              "        vertical-align: middle;\n",
              "    }\n",
              "\n",
              "    .dataframe tbody tr th {\n",
              "        vertical-align: top;\n",
              "    }\n",
              "\n",
              "    .dataframe thead th {\n",
              "        text-align: right;\n",
              "    }\n",
              "</style>\n",
              "<table border=\"1\" class=\"dataframe\">\n",
              "  <thead>\n",
              "    <tr style=\"text-align: right;\">\n",
              "      <th></th>\n",
              "      <th>ID</th>\n",
              "      <th>MONTHS_BALANCE</th>\n",
              "      <th>STATUS</th>\n",
              "    </tr>\n",
              "  </thead>\n",
              "  <tbody>\n",
              "    <tr>\n",
              "      <th>0</th>\n",
              "      <td>5002126</td>\n",
              "      <td>-50</td>\n",
              "      <td>2</td>\n",
              "    </tr>\n",
              "    <tr>\n",
              "      <th>1</th>\n",
              "      <td>5002795</td>\n",
              "      <td>-50</td>\n",
              "      <td>2</td>\n",
              "    </tr>\n",
              "    <tr>\n",
              "      <th>2</th>\n",
              "      <td>5003267</td>\n",
              "      <td>-50</td>\n",
              "      <td>3</td>\n",
              "    </tr>\n",
              "    <tr>\n",
              "      <th>3</th>\n",
              "      <td>5003267</td>\n",
              "      <td>-51</td>\n",
              "      <td>3</td>\n",
              "    </tr>\n",
              "    <tr>\n",
              "      <th>4</th>\n",
              "      <td>5003267</td>\n",
              "      <td>-52</td>\n",
              "      <td>2</td>\n",
              "    </tr>\n",
              "  </tbody>\n",
              "</table>\n",
              "</div>"
            ],
            "text/plain": [
              "        ID  MONTHS_BALANCE STATUS\n",
              "0  5002126             -50      2\n",
              "1  5002795             -50      2\n",
              "2  5003267             -50      3\n",
              "3  5003267             -51      3\n",
              "4  5003267             -52      2"
            ]
          },
          "execution_count": 14,
          "metadata": {},
          "output_type": "execute_result"
        }
      ],
      "source": [
        "%%bigquery\n",
        "SELECT *\n",
        "FROM `ba775-team-project-team3.creditcard.credit_record`\n",
        "LIMIT 5"
      ]
    },
    {
      "cell_type": "markdown",
      "id": "fc20e6d0-e5b6-4222-afdf-5577c4bb8ee7",
      "metadata": {
        "id": "fc20e6d0-e5b6-4222-afdf-5577c4bb8ee7"
      },
      "source": [
        "### 5.Data Cleaning Process:"
      ]
    },
    {
      "cell_type": "markdown",
      "id": "100f38bd-c9bd-4a50-99e2-5754d9b60515",
      "metadata": {
        "id": "100f38bd-c9bd-4a50-99e2-5754d9b60515"
      },
      "source": [
        "#### Finding Missing Values"
      ]
    },
    {
      "cell_type": "markdown",
      "id": "1e48a420-ab79-4ed8-9304-241bbb703a99",
      "metadata": {
        "id": "1e48a420-ab79-4ed8-9304-241bbb703a99"
      },
      "source": [
        "Checking for null vales in all cloumns of the 'application_record' table"
      ]
    },
    {
      "cell_type": "code",
      "execution_count": null,
      "id": "4391948b-b41d-4759-8673-481688fa1fab",
      "metadata": {
        "id": "4391948b-b41d-4759-8673-481688fa1fab",
        "outputId": "d099a68a-92ce-42b2-b79b-64cf0974c2dc"
      },
      "outputs": [
        {
          "name": "stderr",
          "output_type": "stream",
          "text": [
            "Query complete after 0.00s: 100%|██████████| 2/2 [00:00<00:00, 556.75query/s]                         \n",
            "Downloading: 100%|██████████| 1/1 [00:02<00:00,  2.42s/rows]\n"
          ]
        },
        {
          "data": {
            "text/html": [
              "<div>\n",
              "<style scoped>\n",
              "    .dataframe tbody tr th:only-of-type {\n",
              "        vertical-align: middle;\n",
              "    }\n",
              "\n",
              "    .dataframe tbody tr th {\n",
              "        vertical-align: top;\n",
              "    }\n",
              "\n",
              "    .dataframe thead th {\n",
              "        text-align: right;\n",
              "    }\n",
              "</style>\n",
              "<table border=\"1\" class=\"dataframe\">\n",
              "  <thead>\n",
              "    <tr style=\"text-align: right;\">\n",
              "      <th></th>\n",
              "      <th>ID_null</th>\n",
              "      <th>CODE_GENDER_null</th>\n",
              "      <th>FLAG_OWN_CAR_null</th>\n",
              "      <th>FLAG_OWN_REALTY_null</th>\n",
              "      <th>CNT_CHILDREN_null</th>\n",
              "      <th>AMT_INCOME_TOTAL_null</th>\n",
              "      <th>NAME_INCOME_TYPE_null</th>\n",
              "      <th>NAME_EDUCATION_TYPE_null</th>\n",
              "      <th>NAME_FAMILY_STATUS_null</th>\n",
              "      <th>NAME_HOUSING_TYPE_null</th>\n",
              "      <th>DAYS_BIRTH_null</th>\n",
              "      <th>DAYS_EMPLOYED_null</th>\n",
              "      <th>FLAG_MOBIL_null</th>\n",
              "      <th>FLAG_WORK_PHONE_null</th>\n",
              "      <th>FLAG_PHONE_null</th>\n",
              "      <th>FLAG_EMAIL_null</th>\n",
              "      <th>OCCUPATION_TYPE_null</th>\n",
              "      <th>CNT_FAM_MEMBERS_null</th>\n",
              "    </tr>\n",
              "  </thead>\n",
              "  <tbody>\n",
              "    <tr>\n",
              "      <th>0</th>\n",
              "      <td>0</td>\n",
              "      <td>0</td>\n",
              "      <td>0</td>\n",
              "      <td>0</td>\n",
              "      <td>0</td>\n",
              "      <td>0</td>\n",
              "      <td>0</td>\n",
              "      <td>0</td>\n",
              "      <td>0</td>\n",
              "      <td>0</td>\n",
              "      <td>0</td>\n",
              "      <td>0</td>\n",
              "      <td>0</td>\n",
              "      <td>0</td>\n",
              "      <td>0</td>\n",
              "      <td>0</td>\n",
              "      <td>134177</td>\n",
              "      <td>0</td>\n",
              "    </tr>\n",
              "  </tbody>\n",
              "</table>\n",
              "</div>"
            ],
            "text/plain": [
              "   ID_null  CODE_GENDER_null  FLAG_OWN_CAR_null  FLAG_OWN_REALTY_null  \\\n",
              "0        0                 0                  0                     0   \n",
              "\n",
              "   CNT_CHILDREN_null  AMT_INCOME_TOTAL_null  NAME_INCOME_TYPE_null  \\\n",
              "0                  0                      0                      0   \n",
              "\n",
              "   NAME_EDUCATION_TYPE_null  NAME_FAMILY_STATUS_null  NAME_HOUSING_TYPE_null  \\\n",
              "0                         0                        0                       0   \n",
              "\n",
              "   DAYS_BIRTH_null  DAYS_EMPLOYED_null  FLAG_MOBIL_null  FLAG_WORK_PHONE_null  \\\n",
              "0                0                   0                0                     0   \n",
              "\n",
              "   FLAG_PHONE_null  FLAG_EMAIL_null  OCCUPATION_TYPE_null  \\\n",
              "0                0                0                134177   \n",
              "\n",
              "   CNT_FAM_MEMBERS_null  \n",
              "0                     0  "
            ]
          },
          "execution_count": 36,
          "metadata": {},
          "output_type": "execute_result"
        }
      ],
      "source": [
        "%%bigquery\n",
        "SELECT\n",
        "    SUM(IF(ID IS NULL,1,0)) AS ID_null,\n",
        "    SUM(IF(CODE_GENDER IS NULL,1,0)) AS CODE_GENDER_null,\n",
        "    SUM(IF(FLAG_OWN_CAR IS NULL,1,0)) AS FLAG_OWN_CAR_null,\n",
        "    SUM(IF(FLAG_OWN_REALTY IS NULL,1,0)) AS FLAG_OWN_REALTY_null,\n",
        "    SUM(IF(CNT_CHILDREN IS NULL,1,0)) AS CNT_CHILDREN_null,\n",
        "    SUM(IF(AMT_INCOME_TOTAL IS NULL,1,0)) AS AMT_INCOME_TOTAL_null,\n",
        "    SUM(IF(NAME_INCOME_TYPE IS NULL,1,0)) AS NAME_INCOME_TYPE_null,\n",
        "    SUM(IF(NAME_EDUCATION_TYPE IS NULL,1,0)) AS NAME_EDUCATION_TYPE_null,\n",
        "    SUM(IF(NAME_FAMILY_STATUS IS NULL,1,0)) AS NAME_FAMILY_STATUS_null,\n",
        "    SUM(IF(NAME_HOUSING_TYPE IS NULL,1,0)) AS NAME_HOUSING_TYPE_null,\n",
        "    SUM(IF(DAYS_BIRTH IS NULL,1,0)) AS DAYS_BIRTH_null,\n",
        "    SUM(IF(DAYS_EMPLOYED IS NULL,1,0)) AS DAYS_EMPLOYED_null,\n",
        "    SUM(IF(FLAG_MOBIL IS NULL,1,0)) AS FLAG_MOBIL_null,\n",
        "    SUM(IF(FLAG_WORK_PHONE IS NULL,1,0)) AS FLAG_WORK_PHONE_null,\n",
        "    SUM(IF(FLAG_PHONE IS NULL,1,0)) AS FLAG_PHONE_null,\n",
        "    SUM(IF(FLAG_EMAIL IS NULL,1,0)) AS FLAG_EMAIL_null,\n",
        "    SUM(IF(OCCUPATION_TYPE IS NULL,1,0)) AS OCCUPATION_TYPE_null,\n",
        "    SUM(IF(CNT_FAM_MEMBERS IS NULL,1,0)) AS CNT_FAM_MEMBERS_null\n",
        "FROM `ba775-team-project-team3.creditcard.application_record`"
      ]
    },
    {
      "cell_type": "markdown",
      "id": "d6002f84-a87c-446e-a5d7-9dcbaeebde53",
      "metadata": {
        "id": "d6002f84-a87c-446e-a5d7-9dcbaeebde53"
      },
      "source": [
        "Only the cloumn 'OCCUPATION_TYPE' has null values (i.e. 134203 null values). Next we calculate how many values are missing as a percentage of total observations in the 'OCCUPATION_TYPE' column"
      ]
    },
    {
      "cell_type": "code",
      "execution_count": null,
      "id": "37aba80c-b846-45d5-a947-51c26b123476",
      "metadata": {
        "id": "37aba80c-b846-45d5-a947-51c26b123476",
        "outputId": "2b5b8152-ff11-4842-c3f5-e88a6db13f38"
      },
      "outputs": [
        {
          "name": "stderr",
          "output_type": "stream",
          "text": [
            "Query complete after 0.00s: 100%|██████████| 5/5 [00:00<00:00, 2744.96query/s]                        \n",
            "Downloading: 100%|██████████| 1/1 [00:01<00:00,  1.42s/rows]\n"
          ]
        },
        {
          "data": {
            "text/html": [
              "<div>\n",
              "<style scoped>\n",
              "    .dataframe tbody tr th:only-of-type {\n",
              "        vertical-align: middle;\n",
              "    }\n",
              "\n",
              "    .dataframe tbody tr th {\n",
              "        vertical-align: top;\n",
              "    }\n",
              "\n",
              "    .dataframe thead th {\n",
              "        text-align: right;\n",
              "    }\n",
              "</style>\n",
              "<table border=\"1\" class=\"dataframe\">\n",
              "  <thead>\n",
              "    <tr style=\"text-align: right;\">\n",
              "      <th></th>\n",
              "      <th>total_observvations</th>\n",
              "      <th>percent_null</th>\n",
              "    </tr>\n",
              "  </thead>\n",
              "  <tbody>\n",
              "    <tr>\n",
              "      <th>0</th>\n",
              "      <td>304354</td>\n",
              "      <td>30.6</td>\n",
              "    </tr>\n",
              "  </tbody>\n",
              "</table>\n",
              "</div>"
            ],
            "text/plain": [
              "   total_observvations  percent_null\n",
              "0               304354          30.6"
            ]
          },
          "execution_count": 31,
          "metadata": {},
          "output_type": "execute_result"
        }
      ],
      "source": [
        "%%bigquery\n",
        "SELECT COUNT(OCCUPATION_TYPE) AS total_observvations,\n",
        "    ROUND(((SELECT COUNT(*)\n",
        "            FROM `ba775-team-project-team3.creditcard.application_record`\n",
        "            WHERE OCCUPATION_TYPE IS NULL)/ COUNT(*))*100,2) AS percent_null,\n",
        "FROM `ba775-team-project-team3.creditcard.application_record`"
      ]
    },
    {
      "cell_type": "markdown",
      "id": "58f25551-137b-4a30-9781-52ed8daff5dd",
      "metadata": {
        "id": "58f25551-137b-4a30-9781-52ed8daff5dd"
      },
      "source": [
        "30.6% of values in the 'OCCUPATION_TYPE' column are missing. These missing values could be unkown occupation types or represent groups such as students or unemployed. We will discover more on this in our exploratory analysis"
      ]
    },
    {
      "cell_type": "markdown",
      "id": "888f0afc-a7be-4b25-b4e9-b9273402fd39",
      "metadata": {
        "id": "888f0afc-a7be-4b25-b4e9-b9273402fd39"
      },
      "source": [
        "Checking for null vales in all cloumns of the 'credit_record' table"
      ]
    },
    {
      "cell_type": "code",
      "execution_count": null,
      "id": "c1b37fdc-381b-457a-8f36-862691a3a31f",
      "metadata": {
        "id": "c1b37fdc-381b-457a-8f36-862691a3a31f",
        "outputId": "d34c9162-0019-434c-ebf9-37cf472aa202"
      },
      "outputs": [
        {
          "name": "stderr",
          "output_type": "stream",
          "text": [
            "Query complete after 0.00s: 100%|██████████| 2/2 [00:00<00:00, 711.38query/s]                         \n",
            "Downloading: 100%|██████████| 1/1 [00:01<00:00,  1.57s/rows]\n"
          ]
        },
        {
          "data": {
            "text/html": [
              "<div>\n",
              "<style scoped>\n",
              "    .dataframe tbody tr th:only-of-type {\n",
              "        vertical-align: middle;\n",
              "    }\n",
              "\n",
              "    .dataframe tbody tr th {\n",
              "        vertical-align: top;\n",
              "    }\n",
              "\n",
              "    .dataframe thead th {\n",
              "        text-align: right;\n",
              "    }\n",
              "</style>\n",
              "<table border=\"1\" class=\"dataframe\">\n",
              "  <thead>\n",
              "    <tr style=\"text-align: right;\">\n",
              "      <th></th>\n",
              "      <th>ID_null</th>\n",
              "      <th>MONTHS_BALANCE_null</th>\n",
              "      <th>STATUS_null</th>\n",
              "    </tr>\n",
              "  </thead>\n",
              "  <tbody>\n",
              "    <tr>\n",
              "      <th>0</th>\n",
              "      <td>0</td>\n",
              "      <td>0</td>\n",
              "      <td>0</td>\n",
              "    </tr>\n",
              "  </tbody>\n",
              "</table>\n",
              "</div>"
            ],
            "text/plain": [
              "   ID_null  MONTHS_BALANCE_null  STATUS_null\n",
              "0        0                    0            0"
            ]
          },
          "execution_count": 3,
          "metadata": {},
          "output_type": "execute_result"
        }
      ],
      "source": [
        "%%bigquery\n",
        "SELECT\n",
        "    SUM(IF(ID IS NULL,1,0)) AS ID_null,\n",
        "    SUM(IF(MONTHS_BALANCE IS NULL,1,0)) AS MONTHS_BALANCE_null,\n",
        "    SUM(IF(STATUS IS NULL,1,0)) AS STATUS_null\n",
        "FROM `ba775-team-project-team3.creditcard.credit_record`"
      ]
    },
    {
      "cell_type": "markdown",
      "id": "7b4c6125-d9f3-4baf-ae6f-da02df6a7770",
      "metadata": {
        "id": "7b4c6125-d9f3-4baf-ae6f-da02df6a7770"
      },
      "source": [
        "No values are missing in the 'credit_record' table"
      ]
    },
    {
      "cell_type": "markdown",
      "id": "ebbd32b8-9e92-4977-bcd8-716af7c7e73e",
      "metadata": {
        "tags": [],
        "id": "ebbd32b8-9e92-4977-bcd8-716af7c7e73e"
      },
      "source": [
        "#### Handling Missing Values"
      ]
    },
    {
      "cell_type": "markdown",
      "id": "aee2dfdf-ad3d-4197-b27b-4876da51d5d2",
      "metadata": {
        "id": "aee2dfdf-ad3d-4197-b27b-4876da51d5d2"
      },
      "source": [
        "As per our analysis, if a column contains 50% or more null values, we would remove the column. However, The % of null values in the 'OCCUPATION_TYPE' column are only about 30.60%. Therefore we chose to keep the column as a significant column."
      ]
    },
    {
      "cell_type": "markdown",
      "id": "34a09b9e-598c-4dc1-b467-6b978462c1d3",
      "metadata": {
        "id": "34a09b9e-598c-4dc1-b467-6b978462c1d3"
      },
      "source": [
        "#### Checking For Duplicates"
      ]
    },
    {
      "cell_type": "markdown",
      "id": "b1ec545c-7679-47a8-8f97-5b309b12c815",
      "metadata": {
        "id": "b1ec545c-7679-47a8-8f97-5b309b12c815"
      },
      "source": [
        "Checking for duplicate records in the 'application_record' table since each record represents an unique application. Not checking for dupliactes in the 'credit_record' table since it represents multiple records of credit payment behaviour for a single ID"
      ]
    },
    {
      "cell_type": "code",
      "execution_count": null,
      "id": "1fa8bc0e-0c3d-4595-a802-3b47112242bf",
      "metadata": {
        "id": "1fa8bc0e-0c3d-4595-a802-3b47112242bf",
        "outputId": "4e42be02-a951-4873-9775-2170fdd3338d"
      },
      "outputs": [
        {
          "name": "stderr",
          "output_type": "stream",
          "text": [
            "Query complete after 0.00s: 100%|██████████| 2/2 [00:00<00:00, 566.22query/s]                         \n",
            "Downloading: 100%|██████████| 47/47 [00:01<00:00, 30.91rows/s]\n"
          ]
        },
        {
          "data": {
            "text/html": [
              "<div>\n",
              "<style scoped>\n",
              "    .dataframe tbody tr th:only-of-type {\n",
              "        vertical-align: middle;\n",
              "    }\n",
              "\n",
              "    .dataframe tbody tr th {\n",
              "        vertical-align: top;\n",
              "    }\n",
              "\n",
              "    .dataframe thead th {\n",
              "        text-align: right;\n",
              "    }\n",
              "</style>\n",
              "<table border=\"1\" class=\"dataframe\">\n",
              "  <thead>\n",
              "    <tr style=\"text-align: right;\">\n",
              "      <th></th>\n",
              "      <th>ID</th>\n",
              "      <th>f0_</th>\n",
              "    </tr>\n",
              "  </thead>\n",
              "  <tbody>\n",
              "    <tr>\n",
              "      <th>0</th>\n",
              "      <td>7602432</td>\n",
              "      <td>2</td>\n",
              "    </tr>\n",
              "    <tr>\n",
              "      <th>1</th>\n",
              "      <td>7090931</td>\n",
              "      <td>2</td>\n",
              "    </tr>\n",
              "    <tr>\n",
              "      <th>2</th>\n",
              "      <td>7091721</td>\n",
              "      <td>2</td>\n",
              "    </tr>\n",
              "    <tr>\n",
              "      <th>3</th>\n",
              "      <td>7576316</td>\n",
              "      <td>2</td>\n",
              "    </tr>\n",
              "    <tr>\n",
              "      <th>4</th>\n",
              "      <td>7046068</td>\n",
              "      <td>2</td>\n",
              "    </tr>\n",
              "    <tr>\n",
              "      <th>5</th>\n",
              "      <td>7045885</td>\n",
              "      <td>2</td>\n",
              "    </tr>\n",
              "    <tr>\n",
              "      <th>6</th>\n",
              "      <td>7743418</td>\n",
              "      <td>2</td>\n",
              "    </tr>\n",
              "    <tr>\n",
              "      <th>7</th>\n",
              "      <td>7207977</td>\n",
              "      <td>2</td>\n",
              "    </tr>\n",
              "    <tr>\n",
              "      <th>8</th>\n",
              "      <td>7416167</td>\n",
              "      <td>2</td>\n",
              "    </tr>\n",
              "    <tr>\n",
              "      <th>9</th>\n",
              "      <td>7174719</td>\n",
              "      <td>2</td>\n",
              "    </tr>\n",
              "    <tr>\n",
              "      <th>10</th>\n",
              "      <td>7603224</td>\n",
              "      <td>2</td>\n",
              "    </tr>\n",
              "    <tr>\n",
              "      <th>11</th>\n",
              "      <td>7742298</td>\n",
              "      <td>2</td>\n",
              "    </tr>\n",
              "    <tr>\n",
              "      <th>12</th>\n",
              "      <td>7282535</td>\n",
              "      <td>2</td>\n",
              "    </tr>\n",
              "    <tr>\n",
              "      <th>13</th>\n",
              "      <td>7135270</td>\n",
              "      <td>2</td>\n",
              "    </tr>\n",
              "    <tr>\n",
              "      <th>14</th>\n",
              "      <td>7836971</td>\n",
              "      <td>2</td>\n",
              "    </tr>\n",
              "    <tr>\n",
              "      <th>15</th>\n",
              "      <td>7155150</td>\n",
              "      <td>2</td>\n",
              "    </tr>\n",
              "    <tr>\n",
              "      <th>16</th>\n",
              "      <td>7372589</td>\n",
              "      <td>2</td>\n",
              "    </tr>\n",
              "    <tr>\n",
              "      <th>17</th>\n",
              "      <td>7838075</td>\n",
              "      <td>2</td>\n",
              "    </tr>\n",
              "    <tr>\n",
              "      <th>18</th>\n",
              "      <td>7099881</td>\n",
              "      <td>2</td>\n",
              "    </tr>\n",
              "    <tr>\n",
              "      <th>19</th>\n",
              "      <td>7022197</td>\n",
              "      <td>2</td>\n",
              "    </tr>\n",
              "    <tr>\n",
              "      <th>20</th>\n",
              "      <td>7045794</td>\n",
              "      <td>2</td>\n",
              "    </tr>\n",
              "    <tr>\n",
              "      <th>21</th>\n",
              "      <td>7154819</td>\n",
              "      <td>2</td>\n",
              "    </tr>\n",
              "    <tr>\n",
              "      <th>22</th>\n",
              "      <td>7772847</td>\n",
              "      <td>2</td>\n",
              "    </tr>\n",
              "    <tr>\n",
              "      <th>23</th>\n",
              "      <td>7833087</td>\n",
              "      <td>2</td>\n",
              "    </tr>\n",
              "    <tr>\n",
              "      <th>24</th>\n",
              "      <td>7154598</td>\n",
              "      <td>2</td>\n",
              "    </tr>\n",
              "    <tr>\n",
              "      <th>25</th>\n",
              "      <td>7023651</td>\n",
              "      <td>2</td>\n",
              "    </tr>\n",
              "    <tr>\n",
              "      <th>26</th>\n",
              "      <td>7024111</td>\n",
              "      <td>2</td>\n",
              "    </tr>\n",
              "    <tr>\n",
              "      <th>27</th>\n",
              "      <td>7213374</td>\n",
              "      <td>2</td>\n",
              "    </tr>\n",
              "    <tr>\n",
              "      <th>28</th>\n",
              "      <td>7052783</td>\n",
              "      <td>2</td>\n",
              "    </tr>\n",
              "    <tr>\n",
              "      <th>29</th>\n",
              "      <td>7618285</td>\n",
              "      <td>2</td>\n",
              "    </tr>\n",
              "    <tr>\n",
              "      <th>30</th>\n",
              "      <td>7089090</td>\n",
              "      <td>2</td>\n",
              "    </tr>\n",
              "    <tr>\n",
              "      <th>31</th>\n",
              "      <td>7036518</td>\n",
              "      <td>2</td>\n",
              "    </tr>\n",
              "    <tr>\n",
              "      <th>32</th>\n",
              "      <td>7636756</td>\n",
              "      <td>2</td>\n",
              "    </tr>\n",
              "    <tr>\n",
              "      <th>33</th>\n",
              "      <td>7742853</td>\n",
              "      <td>2</td>\n",
              "    </tr>\n",
              "    <tr>\n",
              "      <th>34</th>\n",
              "      <td>7052812</td>\n",
              "      <td>2</td>\n",
              "    </tr>\n",
              "    <tr>\n",
              "      <th>35</th>\n",
              "      <td>7053557</td>\n",
              "      <td>2</td>\n",
              "    </tr>\n",
              "    <tr>\n",
              "      <th>36</th>\n",
              "      <td>7317997</td>\n",
              "      <td>2</td>\n",
              "    </tr>\n",
              "    <tr>\n",
              "      <th>37</th>\n",
              "      <td>7836711</td>\n",
              "      <td>2</td>\n",
              "    </tr>\n",
              "    <tr>\n",
              "      <th>38</th>\n",
              "      <td>7744386</td>\n",
              "      <td>2</td>\n",
              "    </tr>\n",
              "    <tr>\n",
              "      <th>39</th>\n",
              "      <td>7636389</td>\n",
              "      <td>2</td>\n",
              "    </tr>\n",
              "    <tr>\n",
              "      <th>40</th>\n",
              "      <td>7702238</td>\n",
              "      <td>2</td>\n",
              "    </tr>\n",
              "    <tr>\n",
              "      <th>41</th>\n",
              "      <td>7243768</td>\n",
              "      <td>2</td>\n",
              "    </tr>\n",
              "    <tr>\n",
              "      <th>42</th>\n",
              "      <td>7050948</td>\n",
              "      <td>2</td>\n",
              "    </tr>\n",
              "    <tr>\n",
              "      <th>43</th>\n",
              "      <td>7022327</td>\n",
              "      <td>2</td>\n",
              "    </tr>\n",
              "    <tr>\n",
              "      <th>44</th>\n",
              "      <td>7023108</td>\n",
              "      <td>2</td>\n",
              "    </tr>\n",
              "    <tr>\n",
              "      <th>45</th>\n",
              "      <td>7702516</td>\n",
              "      <td>2</td>\n",
              "    </tr>\n",
              "    <tr>\n",
              "      <th>46</th>\n",
              "      <td>7137299</td>\n",
              "      <td>2</td>\n",
              "    </tr>\n",
              "  </tbody>\n",
              "</table>\n",
              "</div>"
            ],
            "text/plain": [
              "         ID  f0_\n",
              "0   7602432    2\n",
              "1   7090931    2\n",
              "2   7091721    2\n",
              "3   7576316    2\n",
              "4   7046068    2\n",
              "5   7045885    2\n",
              "6   7743418    2\n",
              "7   7207977    2\n",
              "8   7416167    2\n",
              "9   7174719    2\n",
              "10  7603224    2\n",
              "11  7742298    2\n",
              "12  7282535    2\n",
              "13  7135270    2\n",
              "14  7836971    2\n",
              "15  7155150    2\n",
              "16  7372589    2\n",
              "17  7838075    2\n",
              "18  7099881    2\n",
              "19  7022197    2\n",
              "20  7045794    2\n",
              "21  7154819    2\n",
              "22  7772847    2\n",
              "23  7833087    2\n",
              "24  7154598    2\n",
              "25  7023651    2\n",
              "26  7024111    2\n",
              "27  7213374    2\n",
              "28  7052783    2\n",
              "29  7618285    2\n",
              "30  7089090    2\n",
              "31  7036518    2\n",
              "32  7636756    2\n",
              "33  7742853    2\n",
              "34  7052812    2\n",
              "35  7053557    2\n",
              "36  7317997    2\n",
              "37  7836711    2\n",
              "38  7744386    2\n",
              "39  7636389    2\n",
              "40  7702238    2\n",
              "41  7243768    2\n",
              "42  7050948    2\n",
              "43  7022327    2\n",
              "44  7023108    2\n",
              "45  7702516    2\n",
              "46  7137299    2"
            ]
          },
          "execution_count": 33,
          "metadata": {},
          "output_type": "execute_result"
        }
      ],
      "source": [
        "%%bigquery\n",
        "SELECT ID, COUNT(ID)\n",
        "FROM `ba775-team-project-team3.creditcard.application_record`\n",
        "GROUP BY ID\n",
        "HAVING COUNT(ID)>1"
      ]
    },
    {
      "cell_type": "markdown",
      "id": "bc4d9c38-629d-4d93-b240-27b3a6ff777e",
      "metadata": {
        "id": "bc4d9c38-629d-4d93-b240-27b3a6ff777e"
      },
      "source": [
        "47 IDs have 1 dupliacte record each resulting in 94 duplicate records in total"
      ]
    },
    {
      "cell_type": "markdown",
      "id": "1b4fbef4-b60e-44b2-849b-b799d7c1787a",
      "metadata": {
        "id": "1b4fbef4-b60e-44b2-849b-b799d7c1787a"
      },
      "source": [
        "#### Handling Duplicate Values"
      ]
    },
    {
      "cell_type": "markdown",
      "id": "ff0378b2-0345-4aa9-991a-2c5249627c62",
      "metadata": {
        "id": "ff0378b2-0345-4aa9-991a-2c5249627c62"
      },
      "source": [
        "A closer look at the dupliacte records showed that the dupliacte IDs infact represented two different applicants for each ID rather than one individual with two applications. Since the dupliactes voilate the definition of one record for each application we removed the duplicate records from the 'application_record' table"
      ]
    },
    {
      "cell_type": "code",
      "execution_count": null,
      "id": "c3c59161-aab6-43d1-9673-ca2e15d3ae1d",
      "metadata": {
        "id": "c3c59161-aab6-43d1-9673-ca2e15d3ae1d",
        "outputId": "5aeac90a-db7d-40a7-ac7f-89313ebc99c1"
      },
      "outputs": [
        {
          "name": "stderr",
          "output_type": "stream",
          "text": [
            "Query complete after 0.00s: 100%|██████████| 7/7 [00:00<00:00, 3703.35query/s]                        \n"
          ]
        },
        {
          "data": {
            "text/html": [
              "<div>\n",
              "<style scoped>\n",
              "    .dataframe tbody tr th:only-of-type {\n",
              "        vertical-align: middle;\n",
              "    }\n",
              "\n",
              "    .dataframe tbody tr th {\n",
              "        vertical-align: top;\n",
              "    }\n",
              "\n",
              "    .dataframe thead th {\n",
              "        text-align: right;\n",
              "    }\n",
              "</style>\n",
              "<table border=\"1\" class=\"dataframe\">\n",
              "  <thead>\n",
              "    <tr style=\"text-align: right;\">\n",
              "      <th></th>\n",
              "    </tr>\n",
              "  </thead>\n",
              "  <tbody>\n",
              "  </tbody>\n",
              "</table>\n",
              "</div>"
            ],
            "text/plain": [
              "Empty DataFrame\n",
              "Columns: []\n",
              "Index: []"
            ]
          },
          "execution_count": 4,
          "metadata": {},
          "output_type": "execute_result"
        }
      ],
      "source": [
        "%%bigquery\n",
        "DELETE FROM `ba775-team-project-team3.creditcard.application_record`\n",
        "WHERE ID IN(\n",
        "  (SELECT ID\n",
        "  FROM `ba775-team-project-team3.creditcard.application_record`\n",
        "  GROUP BY ID\n",
        "  HAVING COUNT(ID) > 1)\n",
        ")"
      ]
    },
    {
      "cell_type": "code",
      "execution_count": null,
      "id": "0eca8f80-71c1-4062-a383-742665ff00f2",
      "metadata": {
        "id": "0eca8f80-71c1-4062-a383-742665ff00f2",
        "outputId": "73b4db0c-0c21-4453-cc0d-bd52f731c09a"
      },
      "outputs": [
        {
          "name": "stderr",
          "output_type": "stream",
          "text": [
            "Query complete after 0.00s: 100%|██████████| 2/2 [00:00<00:00, 1237.62query/s]                        \n",
            "Downloading: 100%|██████████| 1/1 [00:01<00:00,  1.45s/rows]\n"
          ]
        },
        {
          "data": {
            "text/html": [
              "<div>\n",
              "<style scoped>\n",
              "    .dataframe tbody tr th:only-of-type {\n",
              "        vertical-align: middle;\n",
              "    }\n",
              "\n",
              "    .dataframe tbody tr th {\n",
              "        vertical-align: top;\n",
              "    }\n",
              "\n",
              "    .dataframe thead th {\n",
              "        text-align: right;\n",
              "    }\n",
              "</style>\n",
              "<table border=\"1\" class=\"dataframe\">\n",
              "  <thead>\n",
              "    <tr style=\"text-align: right;\">\n",
              "      <th></th>\n",
              "      <th>f0_</th>\n",
              "    </tr>\n",
              "  </thead>\n",
              "  <tbody>\n",
              "    <tr>\n",
              "      <th>0</th>\n",
              "      <td>438463</td>\n",
              "    </tr>\n",
              "  </tbody>\n",
              "</table>\n",
              "</div>"
            ],
            "text/plain": [
              "      f0_\n",
              "0  438463"
            ]
          },
          "execution_count": 35,
          "metadata": {},
          "output_type": "execute_result"
        }
      ],
      "source": [
        "%%bigquery\n",
        "SELECT COUNT(*) FROM `ba775-team-project-team3.creditcard.application_record`"
      ]
    },
    {
      "cell_type": "markdown",
      "id": "56e5f9f6-39d4-45a4-a9b2-075cf116dacd",
      "metadata": {
        "id": "56e5f9f6-39d4-45a4-a9b2-075cf116dacd"
      },
      "source": [
        "After removing the 94 duplicate records we have 438463 observations in total"
      ]
    },
    {
      "cell_type": "code",
      "execution_count": null,
      "id": "fae89fe7-0f56-4d79-aae6-7204bcab17d2",
      "metadata": {
        "id": "fae89fe7-0f56-4d79-aae6-7204bcab17d2",
        "outputId": "83a92986-131b-4099-a67f-4d441c6fbb96"
      },
      "outputs": [
        {
          "name": "stderr",
          "output_type": "stream",
          "text": [
            "Query complete after 0.00s: 100%|██████████| 3/3 [00:00<00:00, 1891.60query/s]                        \n",
            "Downloading: 100%|██████████| 1/1 [00:01<00:00,  1.65s/rows]\n"
          ]
        },
        {
          "data": {
            "text/html": [
              "<div>\n",
              "<style scoped>\n",
              "    .dataframe tbody tr th:only-of-type {\n",
              "        vertical-align: middle;\n",
              "    }\n",
              "\n",
              "    .dataframe tbody tr th {\n",
              "        vertical-align: top;\n",
              "    }\n",
              "\n",
              "    .dataframe thead th {\n",
              "        text-align: right;\n",
              "    }\n",
              "</style>\n",
              "<table border=\"1\" class=\"dataframe\">\n",
              "  <thead>\n",
              "    <tr style=\"text-align: right;\">\n",
              "      <th></th>\n",
              "      <th>f0_</th>\n",
              "    </tr>\n",
              "  </thead>\n",
              "  <tbody>\n",
              "    <tr>\n",
              "      <th>0</th>\n",
              "      <td>438463</td>\n",
              "    </tr>\n",
              "  </tbody>\n",
              "</table>\n",
              "</div>"
            ],
            "text/plain": [
              "      f0_\n",
              "0  438463"
            ]
          },
          "execution_count": 40,
          "metadata": {},
          "output_type": "execute_result"
        }
      ],
      "source": [
        "%%bigquery\n",
        "SELECT COUNT(DISTINCT ID) FROM `ba775-team-project-team3.creditcard.application_record`"
      ]
    },
    {
      "cell_type": "markdown",
      "id": "39e857e9-f15c-4267-8bff-597687c20266",
      "metadata": {
        "id": "39e857e9-f15c-4267-8bff-597687c20266"
      },
      "source": [
        "The distinct number of IDs match the total number of observations, thus confirming that the table has no duplicate records anymore"
      ]
    },
    {
      "cell_type": "markdown",
      "id": "4694ff35-6672-4806-b26b-06c63aee953b",
      "metadata": {
        "id": "4694ff35-6672-4806-b26b-06c63aee953b"
      },
      "source": [
        "## 6.Exploratory Analysis"
      ]
    },
    {
      "cell_type": "markdown",
      "id": "c9deef2c-7709-4682-9457-5b0fcfd263a3",
      "metadata": {
        "id": "c9deef2c-7709-4682-9457-5b0fcfd263a3"
      },
      "source": [
        "#### Q1. What is the proportion of Males & Females in the dataset"
      ]
    },
    {
      "cell_type": "markdown",
      "id": "4682b2bd-6a5d-4caf-9a5f-6ac07fd0d940",
      "metadata": {
        "id": "4682b2bd-6a5d-4caf-9a5f-6ac07fd0d940"
      },
      "source": [
        "One third of applicants were females"
      ]
    },
    {
      "cell_type": "code",
      "execution_count": null,
      "id": "7475b112-6f0d-4f86-8aff-0ae5c926d6bd",
      "metadata": {
        "id": "7475b112-6f0d-4f86-8aff-0ae5c926d6bd",
        "outputId": "23691a07-eb61-4324-ae08-0a76ae28e415"
      },
      "outputs": [
        {
          "name": "stderr",
          "output_type": "stream",
          "text": [
            "Query complete after 0.00s: 100%|██████████| 1/1 [00:00<00:00, 974.74query/s] \n",
            "Downloading: 100%|██████████| 2/2 [00:01<00:00,  1.27rows/s]\n"
          ]
        },
        {
          "data": {
            "text/html": [
              "<div>\n",
              "<style scoped>\n",
              "    .dataframe tbody tr th:only-of-type {\n",
              "        vertical-align: middle;\n",
              "    }\n",
              "\n",
              "    .dataframe tbody tr th {\n",
              "        vertical-align: top;\n",
              "    }\n",
              "\n",
              "    .dataframe thead th {\n",
              "        text-align: right;\n",
              "    }\n",
              "</style>\n",
              "<table border=\"1\" class=\"dataframe\">\n",
              "  <thead>\n",
              "    <tr style=\"text-align: right;\">\n",
              "      <th></th>\n",
              "      <th>gender_num</th>\n",
              "    </tr>\n",
              "  </thead>\n",
              "  <tbody>\n",
              "    <tr>\n",
              "      <th>0</th>\n",
              "      <td>294378</td>\n",
              "    </tr>\n",
              "    <tr>\n",
              "      <th>1</th>\n",
              "      <td>144085</td>\n",
              "    </tr>\n",
              "  </tbody>\n",
              "</table>\n",
              "</div>"
            ],
            "text/plain": [
              "   gender_num\n",
              "0      294378\n",
              "1      144085"
            ]
          },
          "execution_count": 27,
          "metadata": {},
          "output_type": "execute_result"
        }
      ],
      "source": [
        "%%bigquery\n",
        "SELECT COUNT(*) AS gender_num\n",
        "FROM `ba775-team-project-team3.creditcard.application_record`\n",
        "GROUP BY CODE_GENDER;"
      ]
    },
    {
      "cell_type": "code",
      "execution_count": null,
      "id": "de8bda4c-93c0-4487-8622-927e24349705",
      "metadata": {
        "id": "de8bda4c-93c0-4487-8622-927e24349705",
        "outputId": "e875c215-4247-4a92-d8f9-01878eb0ea18"
      },
      "outputs": [
        {
          "name": "stderr",
          "output_type": "stream",
          "text": [
            "Query complete after 0.00s: 100%|██████████| 5/5 [00:00<00:00, 2678.01query/s]                        \n",
            "Downloading: 100%|██████████| 1/1 [00:01<00:00,  1.66s/rows]\n"
          ]
        },
        {
          "data": {
            "text/html": [
              "<div>\n",
              "<style scoped>\n",
              "    .dataframe tbody tr th:only-of-type {\n",
              "        vertical-align: middle;\n",
              "    }\n",
              "\n",
              "    .dataframe tbody tr th {\n",
              "        vertical-align: top;\n",
              "    }\n",
              "\n",
              "    .dataframe thead th {\n",
              "        text-align: right;\n",
              "    }\n",
              "</style>\n",
              "<table border=\"1\" class=\"dataframe\">\n",
              "  <thead>\n",
              "    <tr style=\"text-align: right;\">\n",
              "      <th></th>\n",
              "      <th>total_gender_num</th>\n",
              "      <th>percent_female</th>\n",
              "    </tr>\n",
              "  </thead>\n",
              "  <tbody>\n",
              "    <tr>\n",
              "      <th>0</th>\n",
              "      <td>438463</td>\n",
              "      <td>67.14</td>\n",
              "    </tr>\n",
              "  </tbody>\n",
              "</table>\n",
              "</div>"
            ],
            "text/plain": [
              "   total_gender_num  percent_female\n",
              "0            438463           67.14"
            ]
          },
          "execution_count": 28,
          "metadata": {},
          "output_type": "execute_result"
        }
      ],
      "source": [
        "%%bigquery\n",
        "SELECT COUNT(*) AS total_gender_num,\n",
        "    ROUND(((SELECT COUNT(*)\n",
        "         FROM `ba775-team-project-team3.creditcard.application_record`\n",
        "         WHERE CODE_GENDER = 'F')/ COUNT(*))*100,2) AS percent_female\n",
        "FROM `ba775-team-project-team3.creditcard.application_record`"
      ]
    },
    {
      "cell_type": "code",
      "execution_count": null,
      "id": "af320014-6404-4394-912f-3377de1c1212",
      "metadata": {
        "id": "af320014-6404-4394-912f-3377de1c1212",
        "outputId": "fd0bcc5d-999c-4ba9-8fa1-9f99c7dff220"
      },
      "outputs": [
        {
          "name": "stderr",
          "output_type": "stream",
          "text": [
            "Query complete after 0.00s: 100%|██████████| 5/5 [00:00<00:00, 2722.16query/s]                        \n",
            "Downloading: 100%|██████████| 1/1 [00:01<00:00,  1.43s/rows]\n"
          ]
        },
        {
          "data": {
            "text/html": [
              "<div>\n",
              "<style scoped>\n",
              "    .dataframe tbody tr th:only-of-type {\n",
              "        vertical-align: middle;\n",
              "    }\n",
              "\n",
              "    .dataframe tbody tr th {\n",
              "        vertical-align: top;\n",
              "    }\n",
              "\n",
              "    .dataframe thead th {\n",
              "        text-align: right;\n",
              "    }\n",
              "</style>\n",
              "<table border=\"1\" class=\"dataframe\">\n",
              "  <thead>\n",
              "    <tr style=\"text-align: right;\">\n",
              "      <th></th>\n",
              "      <th>total_gender_num</th>\n",
              "      <th>percent_male</th>\n",
              "    </tr>\n",
              "  </thead>\n",
              "  <tbody>\n",
              "    <tr>\n",
              "      <th>0</th>\n",
              "      <td>438463</td>\n",
              "      <td>32.86</td>\n",
              "    </tr>\n",
              "  </tbody>\n",
              "</table>\n",
              "</div>"
            ],
            "text/plain": [
              "   total_gender_num  percent_male\n",
              "0            438463         32.86"
            ]
          },
          "execution_count": 29,
          "metadata": {},
          "output_type": "execute_result"
        }
      ],
      "source": [
        "%%bigquery\n",
        "SELECT COUNT(*) AS total_gender_num,\n",
        "    ROUND(((SELECT COUNT(*)\n",
        "         FROM `ba775-team-project-team3.creditcard.application_record`\n",
        "         WHERE CODE_GENDER = 'M')/ COUNT(*))*100,2) AS percent_male\n",
        "FROM `ba775-team-project-team3.creditcard.application_record`"
      ]
    },
    {
      "cell_type": "markdown",
      "id": "5aa6703a-ad78-4367-b85e-e4bea3ac1391",
      "metadata": {
        "id": "5aa6703a-ad78-4367-b85e-e4bea3ac1391"
      },
      "source": [
        "#### Q2. Does marital status affect the number of people applying for loans?"
      ]
    },
    {
      "cell_type": "markdown",
      "id": "2d32820b-ed0a-44d9-84fd-ac937143fe43",
      "metadata": {
        "id": "2d32820b-ed0a-44d9-84fd-ac937143fe43"
      },
      "source": [
        "Result shows that married people are way more likely to apply for a loan than other marital status holders"
      ]
    },
    {
      "cell_type": "code",
      "execution_count": null,
      "id": "00de4eeb-00e9-4839-bbeb-2aaf5f3e8fd1",
      "metadata": {
        "id": "00de4eeb-00e9-4839-bbeb-2aaf5f3e8fd1",
        "outputId": "33fc3e61-ff33-4a3f-b12d-964e9cf6fd99"
      },
      "outputs": [
        {
          "name": "stderr",
          "output_type": "stream",
          "text": [
            "Query complete after 0.00s: 100%|██████████| 3/3 [00:00<00:00, 1635.21query/s]                        \n",
            "Downloading: 100%|██████████| 5/5 [00:01<00:00,  3.23rows/s]\n"
          ]
        },
        {
          "data": {
            "text/html": [
              "<div>\n",
              "<style scoped>\n",
              "    .dataframe tbody tr th:only-of-type {\n",
              "        vertical-align: middle;\n",
              "    }\n",
              "\n",
              "    .dataframe tbody tr th {\n",
              "        vertical-align: top;\n",
              "    }\n",
              "\n",
              "    .dataframe thead th {\n",
              "        text-align: right;\n",
              "    }\n",
              "</style>\n",
              "<table border=\"1\" class=\"dataframe\">\n",
              "  <thead>\n",
              "    <tr style=\"text-align: right;\">\n",
              "      <th></th>\n",
              "      <th>marital_status</th>\n",
              "      <th>count</th>\n",
              "    </tr>\n",
              "  </thead>\n",
              "  <tbody>\n",
              "    <tr>\n",
              "      <th>0</th>\n",
              "      <td>Married</td>\n",
              "      <td>299768</td>\n",
              "    </tr>\n",
              "    <tr>\n",
              "      <th>1</th>\n",
              "      <td>Single / not married</td>\n",
              "      <td>55255</td>\n",
              "    </tr>\n",
              "    <tr>\n",
              "      <th>2</th>\n",
              "      <td>Civil marriage</td>\n",
              "      <td>36521</td>\n",
              "    </tr>\n",
              "    <tr>\n",
              "      <th>3</th>\n",
              "      <td>Separated</td>\n",
              "      <td>27249</td>\n",
              "    </tr>\n",
              "    <tr>\n",
              "      <th>4</th>\n",
              "      <td>Widow</td>\n",
              "      <td>19670</td>\n",
              "    </tr>\n",
              "  </tbody>\n",
              "</table>\n",
              "</div>"
            ],
            "text/plain": [
              "         marital_status   count\n",
              "0               Married  299768\n",
              "1  Single / not married   55255\n",
              "2        Civil marriage   36521\n",
              "3             Separated   27249\n",
              "4                 Widow   19670"
            ]
          },
          "execution_count": 31,
          "metadata": {},
          "output_type": "execute_result"
        }
      ],
      "source": [
        "%%bigquery\n",
        "SELECT NAME_FAMILY_STATUS AS marital_status, COUNT(*) AS count\n",
        "FROM `ba775-team-project-team3.creditcard.application_record`\n",
        "GROUP BY NAME_FAMILY_STATUS\n",
        "ORDER BY count DESC;"
      ]
    },
    {
      "cell_type": "markdown",
      "id": "6ff6f65e-cef3-4e5a-b26d-8d4d2fe48c12",
      "metadata": {
        "id": "6ff6f65e-cef3-4e5a-b26d-8d4d2fe48c12"
      },
      "source": [
        "#### Q3. Which Occupation type applied most for loans? Does it have a relation with income?"
      ]
    },
    {
      "cell_type": "markdown",
      "id": "33fd2282-324e-43da-9b74-50b695e0e4ef",
      "metadata": {
        "id": "33fd2282-324e-43da-9b74-50b695e0e4ef"
      },
      "source": [
        "We can observe here that as income increases the number of people applying for loans decreases. Therefore, people in occupations with lower income apply for the loans the most"
      ]
    },
    {
      "cell_type": "code",
      "execution_count": null,
      "id": "3bd203b8-c247-42be-b240-72a936fc1f65",
      "metadata": {
        "id": "3bd203b8-c247-42be-b240-72a936fc1f65",
        "outputId": "612c13d4-bf9c-4b68-f465-b6448d33ad08"
      },
      "outputs": [
        {
          "name": "stderr",
          "output_type": "stream",
          "text": [
            "Query complete after 0.00s: 100%|██████████| 3/3 [00:00<00:00, 1367.41query/s]                        \n",
            "Downloading: 100%|██████████| 19/19 [00:01<00:00, 10.80rows/s]\n"
          ]
        },
        {
          "data": {
            "text/html": [
              "<div>\n",
              "<style scoped>\n",
              "    .dataframe tbody tr th:only-of-type {\n",
              "        vertical-align: middle;\n",
              "    }\n",
              "\n",
              "    .dataframe tbody tr th {\n",
              "        vertical-align: top;\n",
              "    }\n",
              "\n",
              "    .dataframe thead th {\n",
              "        text-align: right;\n",
              "    }\n",
              "</style>\n",
              "<table border=\"1\" class=\"dataframe\">\n",
              "  <thead>\n",
              "    <tr style=\"text-align: right;\">\n",
              "      <th></th>\n",
              "      <th>OCCUPATION_TYPE</th>\n",
              "      <th>NO_OF_APPLICANTS</th>\n",
              "      <th>AVG_INCOME</th>\n",
              "    </tr>\n",
              "  </thead>\n",
              "  <tbody>\n",
              "    <tr>\n",
              "      <th>0</th>\n",
              "      <td>None</td>\n",
              "      <td>134177</td>\n",
              "      <td>170868.0</td>\n",
              "    </tr>\n",
              "    <tr>\n",
              "      <th>1</th>\n",
              "      <td>Laborers</td>\n",
              "      <td>78225</td>\n",
              "      <td>179871.0</td>\n",
              "    </tr>\n",
              "    <tr>\n",
              "      <th>2</th>\n",
              "      <td>Core staff</td>\n",
              "      <td>42993</td>\n",
              "      <td>190917.0</td>\n",
              "    </tr>\n",
              "    <tr>\n",
              "      <th>3</th>\n",
              "      <td>Sales staff</td>\n",
              "      <td>41092</td>\n",
              "      <td>170908.0</td>\n",
              "    </tr>\n",
              "    <tr>\n",
              "      <th>4</th>\n",
              "      <td>Managers</td>\n",
              "      <td>35477</td>\n",
              "      <td>282100.0</td>\n",
              "    </tr>\n",
              "    <tr>\n",
              "      <th>5</th>\n",
              "      <td>Drivers</td>\n",
              "      <td>26085</td>\n",
              "      <td>202062.0</td>\n",
              "    </tr>\n",
              "    <tr>\n",
              "      <th>6</th>\n",
              "      <td>High skill tech staff</td>\n",
              "      <td>17283</td>\n",
              "      <td>195712.0</td>\n",
              "    </tr>\n",
              "    <tr>\n",
              "      <th>7</th>\n",
              "      <td>Accountants</td>\n",
              "      <td>15980</td>\n",
              "      <td>215130.0</td>\n",
              "    </tr>\n",
              "    <tr>\n",
              "      <th>8</th>\n",
              "      <td>Medicine staff</td>\n",
              "      <td>13518</td>\n",
              "      <td>168112.0</td>\n",
              "    </tr>\n",
              "    <tr>\n",
              "      <th>9</th>\n",
              "      <td>Cooking staff</td>\n",
              "      <td>8074</td>\n",
              "      <td>155859.0</td>\n",
              "    </tr>\n",
              "    <tr>\n",
              "      <th>10</th>\n",
              "      <td>Security staff</td>\n",
              "      <td>7993</td>\n",
              "      <td>169835.0</td>\n",
              "    </tr>\n",
              "    <tr>\n",
              "      <th>11</th>\n",
              "      <td>Cleaning staff</td>\n",
              "      <td>5843</td>\n",
              "      <td>147042.0</td>\n",
              "    </tr>\n",
              "    <tr>\n",
              "      <th>12</th>\n",
              "      <td>Private service staff</td>\n",
              "      <td>3455</td>\n",
              "      <td>201626.0</td>\n",
              "    </tr>\n",
              "    <tr>\n",
              "      <th>13</th>\n",
              "      <td>Low-skill Laborers</td>\n",
              "      <td>2140</td>\n",
              "      <td>150334.0</td>\n",
              "    </tr>\n",
              "    <tr>\n",
              "      <th>14</th>\n",
              "      <td>Secretaries</td>\n",
              "      <td>2044</td>\n",
              "      <td>169457.0</td>\n",
              "    </tr>\n",
              "    <tr>\n",
              "      <th>15</th>\n",
              "      <td>Waiters/barmen staff</td>\n",
              "      <td>1665</td>\n",
              "      <td>158797.0</td>\n",
              "    </tr>\n",
              "    <tr>\n",
              "      <th>16</th>\n",
              "      <td>Realty agents</td>\n",
              "      <td>1041</td>\n",
              "      <td>223511.0</td>\n",
              "    </tr>\n",
              "    <tr>\n",
              "      <th>17</th>\n",
              "      <td>HR staff</td>\n",
              "      <td>774</td>\n",
              "      <td>203621.0</td>\n",
              "    </tr>\n",
              "    <tr>\n",
              "      <th>18</th>\n",
              "      <td>IT staff</td>\n",
              "      <td>604</td>\n",
              "      <td>210959.0</td>\n",
              "    </tr>\n",
              "  </tbody>\n",
              "</table>\n",
              "</div>"
            ],
            "text/plain": [
              "          OCCUPATION_TYPE  NO_OF_APPLICANTS  AVG_INCOME\n",
              "0                    None            134177    170868.0\n",
              "1                Laborers             78225    179871.0\n",
              "2              Core staff             42993    190917.0\n",
              "3             Sales staff             41092    170908.0\n",
              "4                Managers             35477    282100.0\n",
              "5                 Drivers             26085    202062.0\n",
              "6   High skill tech staff             17283    195712.0\n",
              "7             Accountants             15980    215130.0\n",
              "8          Medicine staff             13518    168112.0\n",
              "9           Cooking staff              8074    155859.0\n",
              "10         Security staff              7993    169835.0\n",
              "11         Cleaning staff              5843    147042.0\n",
              "12  Private service staff              3455    201626.0\n",
              "13     Low-skill Laborers              2140    150334.0\n",
              "14            Secretaries              2044    169457.0\n",
              "15   Waiters/barmen staff              1665    158797.0\n",
              "16          Realty agents              1041    223511.0\n",
              "17               HR staff               774    203621.0\n",
              "18               IT staff               604    210959.0"
            ]
          },
          "execution_count": 33,
          "metadata": {},
          "output_type": "execute_result"
        }
      ],
      "source": [
        "%%bigquery\n",
        "SELECT OCCUPATION_TYPE, COUNT(*) AS NO_OF_APPLICANTS, ROUND(AVG(AMT_INCOME_TOTAL),0) AS AVG_INCOME\n",
        "FROM `ba775-team-project-team3.creditcard.application_record`\n",
        "GROUP BY OCCUPATION_TYPE\n",
        "ORDER BY NO_OF_APPLICANTS DESC"
      ]
    },
    {
      "cell_type": "markdown",
      "id": "2c6bd4e7-d1be-4c95-8dee-8cc63d689a7a",
      "metadata": {
        "id": "2c6bd4e7-d1be-4c95-8dee-8cc63d689a7a"
      },
      "source": [
        "#### Q4. Does martital status and occupation have any relation?"
      ]
    },
    {
      "cell_type": "markdown",
      "id": "df1082eb-9deb-4a70-b170-570b6dfa780e",
      "metadata": {
        "id": "df1082eb-9deb-4a70-b170-570b6dfa780e"
      },
      "source": [
        "People with lower income tend to have a 'married' marital status compared to higher income people who are less likely to be married"
      ]
    },
    {
      "cell_type": "code",
      "execution_count": null,
      "id": "b56baf6c-e57f-4fd3-bb40-100cca09d23f",
      "metadata": {
        "id": "b56baf6c-e57f-4fd3-bb40-100cca09d23f",
        "outputId": "030e9e00-c206-47eb-9f2e-979fef56ec69"
      },
      "outputs": [
        {
          "name": "stderr",
          "output_type": "stream",
          "text": [
            "Query complete after 0.00s: 100%|██████████| 1/1 [00:00<00:00, 934.98query/s] \n",
            "Downloading: 100%|██████████| 94/94 [00:01<00:00, 55.46rows/s]\n"
          ]
        },
        {
          "data": {
            "text/html": [
              "<div>\n",
              "<style scoped>\n",
              "    .dataframe tbody tr th:only-of-type {\n",
              "        vertical-align: middle;\n",
              "    }\n",
              "\n",
              "    .dataframe tbody tr th {\n",
              "        vertical-align: top;\n",
              "    }\n",
              "\n",
              "    .dataframe thead th {\n",
              "        text-align: right;\n",
              "    }\n",
              "</style>\n",
              "<table border=\"1\" class=\"dataframe\">\n",
              "  <thead>\n",
              "    <tr style=\"text-align: right;\">\n",
              "      <th></th>\n",
              "      <th>marital_status</th>\n",
              "      <th>OCCUPATION_TYPE</th>\n",
              "      <th>count</th>\n",
              "    </tr>\n",
              "  </thead>\n",
              "  <tbody>\n",
              "    <tr>\n",
              "      <th>0</th>\n",
              "      <td>Married</td>\n",
              "      <td>None</td>\n",
              "      <td>87093</td>\n",
              "    </tr>\n",
              "    <tr>\n",
              "      <th>1</th>\n",
              "      <td>Married</td>\n",
              "      <td>Laborers</td>\n",
              "      <td>55214</td>\n",
              "    </tr>\n",
              "    <tr>\n",
              "      <th>2</th>\n",
              "      <td>Married</td>\n",
              "      <td>Core staff</td>\n",
              "      <td>30209</td>\n",
              "    </tr>\n",
              "    <tr>\n",
              "      <th>3</th>\n",
              "      <td>Married</td>\n",
              "      <td>Sales staff</td>\n",
              "      <td>26357</td>\n",
              "    </tr>\n",
              "    <tr>\n",
              "      <th>4</th>\n",
              "      <td>Married</td>\n",
              "      <td>Managers</td>\n",
              "      <td>26338</td>\n",
              "    </tr>\n",
              "    <tr>\n",
              "      <th>...</th>\n",
              "      <td>...</td>\n",
              "      <td>...</td>\n",
              "      <td>...</td>\n",
              "    </tr>\n",
              "    <tr>\n",
              "      <th>89</th>\n",
              "      <td>Civil marriage</td>\n",
              "      <td>HR staff</td>\n",
              "      <td>42</td>\n",
              "    </tr>\n",
              "    <tr>\n",
              "      <th>90</th>\n",
              "      <td>Widow</td>\n",
              "      <td>Low-skill Laborers</td>\n",
              "      <td>36</td>\n",
              "    </tr>\n",
              "    <tr>\n",
              "      <th>91</th>\n",
              "      <td>Widow</td>\n",
              "      <td>Waiters/barmen staff</td>\n",
              "      <td>29</td>\n",
              "    </tr>\n",
              "    <tr>\n",
              "      <th>92</th>\n",
              "      <td>Civil marriage</td>\n",
              "      <td>IT staff</td>\n",
              "      <td>24</td>\n",
              "    </tr>\n",
              "    <tr>\n",
              "      <th>93</th>\n",
              "      <td>Widow</td>\n",
              "      <td>Realty agents</td>\n",
              "      <td>10</td>\n",
              "    </tr>\n",
              "  </tbody>\n",
              "</table>\n",
              "<p>94 rows × 3 columns</p>\n",
              "</div>"
            ],
            "text/plain": [
              "    marital_status       OCCUPATION_TYPE  count\n",
              "0          Married                  None  87093\n",
              "1          Married              Laborers  55214\n",
              "2          Married            Core staff  30209\n",
              "3          Married           Sales staff  26357\n",
              "4          Married              Managers  26338\n",
              "..             ...                   ...    ...\n",
              "89  Civil marriage              HR staff     42\n",
              "90           Widow    Low-skill Laborers     36\n",
              "91           Widow  Waiters/barmen staff     29\n",
              "92  Civil marriage              IT staff     24\n",
              "93           Widow         Realty agents     10\n",
              "\n",
              "[94 rows x 3 columns]"
            ]
          },
          "execution_count": 35,
          "metadata": {},
          "output_type": "execute_result"
        }
      ],
      "source": [
        "%%bigquery\n",
        "SELECT NAME_FAMILY_STATUS AS marital_status, OCCUPATION_TYPE, COUNT(*) AS count\n",
        "FROM `ba775-team-project-team3.creditcard.application_record`\n",
        "GROUP BY NAME_FAMILY_STATUS, OCCUPATION_TYPE\n",
        "ORDER BY count DESC;"
      ]
    },
    {
      "cell_type": "markdown",
      "id": "aad2dd07-ca05-4677-aff4-6ece0975cb68",
      "metadata": {
        "id": "aad2dd07-ca05-4677-aff4-6ece0975cb68"
      },
      "source": [
        "#### Q5. What percentage of young people (18-24 years old) have credit card?"
      ]
    },
    {
      "cell_type": "code",
      "execution_count": null,
      "id": "c923b08f-3faa-4ec9-b743-e9e6b2d242ea",
      "metadata": {
        "id": "c923b08f-3faa-4ec9-b743-e9e6b2d242ea",
        "outputId": "b95487d6-013b-4c7a-94e8-520a25502413"
      },
      "outputs": [
        {
          "name": "stderr",
          "output_type": "stream",
          "text": [
            "Query complete after 0.00s: 100%|██████████| 1/1 [00:00<00:00, 942.54query/s] \n",
            "Downloading: 100%|██████████| 5/5 [00:02<00:00,  1.71rows/s]\n"
          ]
        },
        {
          "data": {
            "text/html": [
              "<div>\n",
              "<style scoped>\n",
              "    .dataframe tbody tr th:only-of-type {\n",
              "        vertical-align: middle;\n",
              "    }\n",
              "\n",
              "    .dataframe tbody tr th {\n",
              "        vertical-align: top;\n",
              "    }\n",
              "\n",
              "    .dataframe thead th {\n",
              "        text-align: right;\n",
              "    }\n",
              "</style>\n",
              "<table border=\"1\" class=\"dataframe\">\n",
              "  <thead>\n",
              "    <tr style=\"text-align: right;\">\n",
              "      <th></th>\n",
              "      <th>years_birth_category</th>\n",
              "      <th>count</th>\n",
              "      <th>perct_count</th>\n",
              "    </tr>\n",
              "  </thead>\n",
              "  <tbody>\n",
              "    <tr>\n",
              "      <th>0</th>\n",
              "      <td>40-55 years old</td>\n",
              "      <td>13403</td>\n",
              "      <td>36.76</td>\n",
              "    </tr>\n",
              "    <tr>\n",
              "      <th>1</th>\n",
              "      <td>30-40 years old</td>\n",
              "      <td>10439</td>\n",
              "      <td>28.63</td>\n",
              "    </tr>\n",
              "    <tr>\n",
              "      <th>2</th>\n",
              "      <td>over 55 years old</td>\n",
              "      <td>7687</td>\n",
              "      <td>21.09</td>\n",
              "    </tr>\n",
              "    <tr>\n",
              "      <th>3</th>\n",
              "      <td>25-30 years old</td>\n",
              "      <td>4556</td>\n",
              "      <td>12.50</td>\n",
              "    </tr>\n",
              "    <tr>\n",
              "      <th>4</th>\n",
              "      <td>18-24 years old</td>\n",
              "      <td>372</td>\n",
              "      <td>1.02</td>\n",
              "    </tr>\n",
              "  </tbody>\n",
              "</table>\n",
              "</div>"
            ],
            "text/plain": [
              "  years_birth_category  count  perct_count\n",
              "0      40-55 years old  13403        36.76\n",
              "1      30-40 years old  10439        28.63\n",
              "2    over 55 years old   7687        21.09\n",
              "3      25-30 years old   4556        12.50\n",
              "4      18-24 years old    372         1.02"
            ]
          },
          "execution_count": 37,
          "metadata": {},
          "output_type": "execute_result"
        }
      ],
      "source": [
        "%%bigquery\n",
        "SELECT\n",
        "  CASE\n",
        "    WHEN (DAYS_BIRTH / -365) < 18 THEN 'under 18 years old'\n",
        "    WHEN (DAYS_BIRTH / -365) >= 18  AND (DAYS_BIRTH / -365) <= 24 THEN '18-24 years old'\n",
        "    WHEN (DAYS_BIRTH / -365) > 24  AND (DAYS_BIRTH / -365) <= 30 THEN '25-30 years old'\n",
        "    WHEN (DAYS_BIRTH / -365) > 30  AND (DAYS_BIRTH / -365) <= 40 THEN '30-40 years old'\n",
        "    WHEN (DAYS_BIRTH / -365) > 40  AND (DAYS_BIRTH / -365) <= 55 THEN '40-55 years old'\n",
        "    ELSE 'over 55 years old'\n",
        "    END AS years_birth_category,\n",
        "  COUNT (DISTINCT app.ID) AS count,\n",
        "  ROUND(COUNT(distinct app.ID) /36457 *100,2) AS perct_count\n",
        "FROM `ba775-team-project-team3.creditcard.application_record` as app\n",
        "LEFT JOIN `ba775-team-project-team3.creditcard.credit_record` as cred\n",
        "ON app.ID = cred.ID\n",
        "WHERE app.ID = cred.ID\n",
        "GROUP BY years_birth_category\n",
        "ORDER BY count DESC"
      ]
    },
    {
      "cell_type": "markdown",
      "id": "66f4bae3-f8e5-4da8-8879-ba98ff7e9665",
      "metadata": {
        "id": "66f4bae3-f8e5-4da8-8879-ba98ff7e9665"
      },
      "source": [
        "#### Q6. Which type of housing was most common with people who could pay off their loans?"
      ]
    },
    {
      "cell_type": "markdown",
      "id": "519537d9-6a37-4dfd-8880-144182637d41",
      "metadata": {
        "id": "519537d9-6a37-4dfd-8880-144182637d41"
      },
      "source": [
        "We analyzed the data to find out what kind of people were able to pay their bills under different variables. After our analysis, we found that people who own houses are the most likely to pay off their bills"
      ]
    },
    {
      "cell_type": "code",
      "execution_count": null,
      "id": "8ad3e0d1-bc0c-452e-9a8f-ef6bb8966de7",
      "metadata": {
        "tags": [],
        "id": "8ad3e0d1-bc0c-452e-9a8f-ef6bb8966de7",
        "outputId": "78437651-b272-4a34-8a54-5ac536807d9d"
      },
      "outputs": [
        {
          "name": "stderr",
          "output_type": "stream",
          "text": [
            "Query complete after 0.00s: 100%|██████████| 4/4 [00:00<00:00, 1242.48query/s]                        \n",
            "Downloading: 100%|██████████| 11/11 [00:01<00:00,  7.92rows/s]\n"
          ]
        },
        {
          "data": {
            "text/html": [
              "<div>\n",
              "<style scoped>\n",
              "    .dataframe tbody tr th:only-of-type {\n",
              "        vertical-align: middle;\n",
              "    }\n",
              "\n",
              "    .dataframe tbody tr th {\n",
              "        vertical-align: top;\n",
              "    }\n",
              "\n",
              "    .dataframe thead th {\n",
              "        text-align: right;\n",
              "    }\n",
              "</style>\n",
              "<table border=\"1\" class=\"dataframe\">\n",
              "  <thead>\n",
              "    <tr style=\"text-align: right;\">\n",
              "      <th></th>\n",
              "      <th>STATUS</th>\n",
              "      <th>PAYMENT_STATUS</th>\n",
              "      <th>NAME_HOUSING_TYPE</th>\n",
              "      <th>NO_OF_APPLICANTS</th>\n",
              "    </tr>\n",
              "  </thead>\n",
              "  <tbody>\n",
              "    <tr>\n",
              "      <th>0</th>\n",
              "      <td>0</td>\n",
              "      <td>1-29 days past due</td>\n",
              "      <td>House / apartment</td>\n",
              "      <td>129</td>\n",
              "    </tr>\n",
              "    <tr>\n",
              "      <th>1</th>\n",
              "      <td>0</td>\n",
              "      <td>1-29 days past due</td>\n",
              "      <td>With parents</td>\n",
              "      <td>18</td>\n",
              "    </tr>\n",
              "    <tr>\n",
              "      <th>2</th>\n",
              "      <td>0</td>\n",
              "      <td>1-29 days past due</td>\n",
              "      <td>Rented apartment</td>\n",
              "      <td>6</td>\n",
              "    </tr>\n",
              "    <tr>\n",
              "      <th>3</th>\n",
              "      <td>0</td>\n",
              "      <td>1-29 days past due</td>\n",
              "      <td>Municipal apartment</td>\n",
              "      <td>2</td>\n",
              "    </tr>\n",
              "    <tr>\n",
              "      <th>4</th>\n",
              "      <td>0</td>\n",
              "      <td>1-29 days past due</td>\n",
              "      <td>Co-op apartment</td>\n",
              "      <td>1</td>\n",
              "    </tr>\n",
              "    <tr>\n",
              "      <th>5</th>\n",
              "      <td>C</td>\n",
              "      <td>paid off that month</td>\n",
              "      <td>House / apartment</td>\n",
              "      <td>5</td>\n",
              "    </tr>\n",
              "    <tr>\n",
              "      <th>6</th>\n",
              "      <td>C</td>\n",
              "      <td>paid off that month</td>\n",
              "      <td>Rented apartment</td>\n",
              "      <td>1</td>\n",
              "    </tr>\n",
              "    <tr>\n",
              "      <th>7</th>\n",
              "      <td>X</td>\n",
              "      <td>No loan for the month</td>\n",
              "      <td>House / apartment</td>\n",
              "      <td>61</td>\n",
              "    </tr>\n",
              "    <tr>\n",
              "      <th>8</th>\n",
              "      <td>X</td>\n",
              "      <td>No loan for the month</td>\n",
              "      <td>With parents</td>\n",
              "      <td>10</td>\n",
              "    </tr>\n",
              "    <tr>\n",
              "      <th>9</th>\n",
              "      <td>X</td>\n",
              "      <td>No loan for the month</td>\n",
              "      <td>Municipal apartment</td>\n",
              "      <td>2</td>\n",
              "    </tr>\n",
              "    <tr>\n",
              "      <th>10</th>\n",
              "      <td>X</td>\n",
              "      <td>No loan for the month</td>\n",
              "      <td>Rented apartment</td>\n",
              "      <td>1</td>\n",
              "    </tr>\n",
              "  </tbody>\n",
              "</table>\n",
              "</div>"
            ],
            "text/plain": [
              "   STATUS         PAYMENT_STATUS    NAME_HOUSING_TYPE  NO_OF_APPLICANTS\n",
              "0       0     1-29 days past due    House / apartment               129\n",
              "1       0     1-29 days past due         With parents                18\n",
              "2       0     1-29 days past due     Rented apartment                 6\n",
              "3       0     1-29 days past due  Municipal apartment                 2\n",
              "4       0     1-29 days past due      Co-op apartment                 1\n",
              "5       C    paid off that month    House / apartment                 5\n",
              "6       C    paid off that month     Rented apartment                 1\n",
              "7       X  No loan for the month    House / apartment                61\n",
              "8       X  No loan for the month         With parents                10\n",
              "9       X  No loan for the month  Municipal apartment                 2\n",
              "10      X  No loan for the month     Rented apartment                 1"
            ]
          },
          "execution_count": 2,
          "metadata": {},
          "output_type": "execute_result"
        }
      ],
      "source": [
        "%%bigquery\n",
        "SELECT\n",
        "c.STATUS,\n",
        "CASE\n",
        " WHEN STATUS='0' THEN '1-29 days past due'\n",
        " WHEN STATUS='1' THEN '30-59 days past due'\n",
        " WHEN STATUS='2' THEN '60-89 days overdue'\n",
        " WHEN STATUS='3' THEN '90-119 days overdue'\n",
        " WHEN STATUS='4' THEN '120-149 days overdue'\n",
        " WHEN STATUS='5' THEN 'Overdue or bad debts, write-offs for more than 150 days'\n",
        " WHEN STATUS='C' THEN 'paid off that month'\n",
        " WHEN STATUS='X' THEN 'No loan for the month'\n",
        "END AS PAYMENT_STATUS,a.NAME_HOUSING_TYPE,COUNT(a.ID) NO_OF_APPLICANTS\n",
        "FROM `ba775-team-project-team3.creditcard.application_record` as a\n",
        "INNER JOIN `ba775-team-project-team3.creditcard.credit_record` as c\n",
        "ON a.ID = c.ID\n",
        "WHERE OCCUPATION_TYPE is not null\n",
        "GROUP BY c.STATUS,a.NAME_HOUSING_TYPE\n",
        "ORDER BY c.STATUS,NO_OF_APPLICANTS DESC;\n"
      ]
    },
    {
      "cell_type": "markdown",
      "id": "3947e8da-f382-464a-b5e7-3e85d7262085",
      "metadata": {
        "id": "3947e8da-f382-464a-b5e7-3e85d7262085"
      },
      "source": [
        "#### Q7. What kind of income type do you have could pay off or no loan?"
      ]
    },
    {
      "cell_type": "markdown",
      "id": "56f51289-5320-4943-bfe3-fe98575e8668",
      "metadata": {
        "id": "56f51289-5320-4943-bfe3-fe98575e8668"
      },
      "source": [
        "Homeownership is really important for paying bills, and we also wanted to analyze the relationship between income and paying bills. After our analysis, we found that those whose income comes from work are the most likely to pay off their bills, while those whose income comes from pensions are the least likely"
      ]
    },
    {
      "cell_type": "code",
      "execution_count": null,
      "id": "6c2443cf-fac5-4f41-974f-99f24d94eab9",
      "metadata": {
        "id": "6c2443cf-fac5-4f41-974f-99f24d94eab9",
        "outputId": "74a90af2-20d3-4d1c-e199-034820046443"
      },
      "outputs": [
        {
          "name": "stderr",
          "output_type": "stream",
          "text": [
            "Query complete after 0.00s: 100%|██████████| 4/4 [00:00<00:00, 1567.67query/s]                        \n",
            "Downloading: 100%|██████████| 10/10 [00:01<00:00,  6.58rows/s]\n"
          ]
        },
        {
          "data": {
            "text/html": [
              "<div>\n",
              "<style scoped>\n",
              "    .dataframe tbody tr th:only-of-type {\n",
              "        vertical-align: middle;\n",
              "    }\n",
              "\n",
              "    .dataframe tbody tr th {\n",
              "        vertical-align: top;\n",
              "    }\n",
              "\n",
              "    .dataframe thead th {\n",
              "        text-align: right;\n",
              "    }\n",
              "</style>\n",
              "<table border=\"1\" class=\"dataframe\">\n",
              "  <thead>\n",
              "    <tr style=\"text-align: right;\">\n",
              "      <th></th>\n",
              "      <th>STATUS</th>\n",
              "      <th>PAYMENT_STATUS</th>\n",
              "      <th>NAME_INCOME_TYPE</th>\n",
              "      <th>NO_OF_APPLICANTS</th>\n",
              "    </tr>\n",
              "  </thead>\n",
              "  <tbody>\n",
              "    <tr>\n",
              "      <th>0</th>\n",
              "      <td>C</td>\n",
              "      <td>paid off that month</td>\n",
              "      <td>Working</td>\n",
              "      <td>141514</td>\n",
              "    </tr>\n",
              "    <tr>\n",
              "      <th>1</th>\n",
              "      <td>C</td>\n",
              "      <td>paid off that month</td>\n",
              "      <td>Commercial associate</td>\n",
              "      <td>62631</td>\n",
              "    </tr>\n",
              "    <tr>\n",
              "      <th>2</th>\n",
              "      <td>C</td>\n",
              "      <td>paid off that month</td>\n",
              "      <td>State servant</td>\n",
              "      <td>21673</td>\n",
              "    </tr>\n",
              "    <tr>\n",
              "      <th>3</th>\n",
              "      <td>C</td>\n",
              "      <td>paid off that month</td>\n",
              "      <td>Student</td>\n",
              "      <td>196</td>\n",
              "    </tr>\n",
              "    <tr>\n",
              "      <th>4</th>\n",
              "      <td>C</td>\n",
              "      <td>paid off that month</td>\n",
              "      <td>Pensioner</td>\n",
              "      <td>171</td>\n",
              "    </tr>\n",
              "    <tr>\n",
              "      <th>5</th>\n",
              "      <td>X</td>\n",
              "      <td>No loan for the month</td>\n",
              "      <td>Working</td>\n",
              "      <td>63315</td>\n",
              "    </tr>\n",
              "    <tr>\n",
              "      <th>6</th>\n",
              "      <td>X</td>\n",
              "      <td>No loan for the month</td>\n",
              "      <td>Commercial associate</td>\n",
              "      <td>28504</td>\n",
              "    </tr>\n",
              "    <tr>\n",
              "      <th>7</th>\n",
              "      <td>X</td>\n",
              "      <td>No loan for the month</td>\n",
              "      <td>State servant</td>\n",
              "      <td>10267</td>\n",
              "    </tr>\n",
              "    <tr>\n",
              "      <th>8</th>\n",
              "      <td>X</td>\n",
              "      <td>No loan for the month</td>\n",
              "      <td>Student</td>\n",
              "      <td>69</td>\n",
              "    </tr>\n",
              "    <tr>\n",
              "      <th>9</th>\n",
              "      <td>X</td>\n",
              "      <td>No loan for the month</td>\n",
              "      <td>Pensioner</td>\n",
              "      <td>12</td>\n",
              "    </tr>\n",
              "  </tbody>\n",
              "</table>\n",
              "</div>"
            ],
            "text/plain": [
              "  STATUS         PAYMENT_STATUS      NAME_INCOME_TYPE  NO_OF_APPLICANTS\n",
              "0      C    paid off that month               Working            141514\n",
              "1      C    paid off that month  Commercial associate             62631\n",
              "2      C    paid off that month         State servant             21673\n",
              "3      C    paid off that month               Student               196\n",
              "4      C    paid off that month             Pensioner               171\n",
              "5      X  No loan for the month               Working             63315\n",
              "6      X  No loan for the month  Commercial associate             28504\n",
              "7      X  No loan for the month         State servant             10267\n",
              "8      X  No loan for the month               Student                69\n",
              "9      X  No loan for the month             Pensioner                12"
            ]
          },
          "execution_count": 5,
          "metadata": {},
          "output_type": "execute_result"
        }
      ],
      "source": [
        "%%bigquery\n",
        "SELECT\n",
        "c.STATUS,\n",
        "CASE\n",
        " WHEN STATUS='0' THEN '1-29 days past due'\n",
        " WHEN STATUS='1' THEN '30-59 days past due'\n",
        " WHEN STATUS='2' THEN '60-89 days overdue'\n",
        " WHEN STATUS='3' THEN '90-119 days overdue'\n",
        " WHEN STATUS='4' THEN '120-149 days overdue'\n",
        " WHEN STATUS='5' THEN 'Overdue or bad debts, write-offs for more than 150 days'\n",
        " WHEN STATUS='C' THEN 'paid off that month'\n",
        " WHEN STATUS='X' THEN 'No loan for the month'END AS PAYMENT_STATUS,\n",
        "a.NAME_INCOME_TYPE,COUNT(a.ID) NO_OF_APPLICANTS\n",
        "FROM `ba775-team-project-team3.creditcard.application_record` as a\n",
        "INNER JOIN `ba775-team-project-team3.creditcard.credit_record` as c\n",
        "ON a.ID = c.ID\n",
        "WHERE OCCUPATION_TYPE is not null\n",
        "GROUP BY c.STATUS,a.NAME_INCOME_TYPE\n",
        "HAVING c.STATUS = 'C' OR c.STATUS = 'X'\n",
        "ORDER BY c.STATUS,NO_OF_APPLICANTS DESC;"
      ]
    },
    {
      "cell_type": "markdown",
      "id": "7c27b7e4-d79b-40f8-adda-757695cbacc2",
      "metadata": {
        "id": "7c27b7e4-d79b-40f8-adda-757695cbacc2"
      },
      "source": [
        "#### Q8. How do you judge a consumer's credit status if you own a car？"
      ]
    },
    {
      "cell_type": "markdown",
      "id": "a0ec0465-ba7d-4afa-b835-7f1172d3a54e",
      "metadata": {
        "id": "a0ec0465-ba7d-4afa-b835-7f1172d3a54e"
      },
      "source": [
        "We want to analyze the relationship between debt and who owns the car. What we found after the analysis was that regardless of the type of debt, people who didn't own a car were more likely to be unable to pay off their debt"
      ]
    },
    {
      "cell_type": "code",
      "execution_count": null,
      "id": "468e349f-10fd-409a-b5eb-f9de532c0818",
      "metadata": {
        "id": "468e349f-10fd-409a-b5eb-f9de532c0818",
        "outputId": "4c8e6ea0-3fb2-467e-cf6d-9c11b3995349"
      },
      "outputs": [
        {
          "name": "stderr",
          "output_type": "stream",
          "text": [
            "Query complete after 0.01s: 100%|██████████| 4/4 [00:00<00:00, 2443.17query/s]                        \n",
            "Downloading: 100%|██████████| 12/12 [00:01<00:00,  7.49rows/s]\n"
          ]
        },
        {
          "data": {
            "text/html": [
              "<div>\n",
              "<style scoped>\n",
              "    .dataframe tbody tr th:only-of-type {\n",
              "        vertical-align: middle;\n",
              "    }\n",
              "\n",
              "    .dataframe tbody tr th {\n",
              "        vertical-align: top;\n",
              "    }\n",
              "\n",
              "    .dataframe thead th {\n",
              "        text-align: right;\n",
              "    }\n",
              "</style>\n",
              "<table border=\"1\" class=\"dataframe\">\n",
              "  <thead>\n",
              "    <tr style=\"text-align: right;\">\n",
              "      <th></th>\n",
              "      <th>FLAG_OWN_CAR</th>\n",
              "      <th>STATUS</th>\n",
              "      <th>PAYMENT_STATUS</th>\n",
              "      <th>NO_OF_APPLICANTS</th>\n",
              "    </tr>\n",
              "  </thead>\n",
              "  <tbody>\n",
              "    <tr>\n",
              "      <th>0</th>\n",
              "      <td>False</td>\n",
              "      <td>0</td>\n",
              "      <td>1-29 days past due</td>\n",
              "      <td>114719</td>\n",
              "    </tr>\n",
              "    <tr>\n",
              "      <th>1</th>\n",
              "      <td>True</td>\n",
              "      <td>0</td>\n",
              "      <td>1-29 days past due</td>\n",
              "      <td>86211</td>\n",
              "    </tr>\n",
              "    <tr>\n",
              "      <th>2</th>\n",
              "      <td>False</td>\n",
              "      <td>1</td>\n",
              "      <td>30-59 days past due</td>\n",
              "      <td>3808</td>\n",
              "    </tr>\n",
              "    <tr>\n",
              "      <th>3</th>\n",
              "      <td>True</td>\n",
              "      <td>1</td>\n",
              "      <td>30-59 days past due</td>\n",
              "      <td>2615</td>\n",
              "    </tr>\n",
              "    <tr>\n",
              "      <th>4</th>\n",
              "      <td>False</td>\n",
              "      <td>5</td>\n",
              "      <td>Overdue or bad debts, write-offs for more than...</td>\n",
              "      <td>574</td>\n",
              "    </tr>\n",
              "    <tr>\n",
              "      <th>5</th>\n",
              "      <td>True</td>\n",
              "      <td>5</td>\n",
              "      <td>Overdue or bad debts, write-offs for more than...</td>\n",
              "      <td>513</td>\n",
              "    </tr>\n",
              "    <tr>\n",
              "      <th>6</th>\n",
              "      <td>False</td>\n",
              "      <td>2</td>\n",
              "      <td>60-89 days overdue</td>\n",
              "      <td>305</td>\n",
              "    </tr>\n",
              "    <tr>\n",
              "      <th>7</th>\n",
              "      <td>True</td>\n",
              "      <td>2</td>\n",
              "      <td>60-89 days overdue</td>\n",
              "      <td>237</td>\n",
              "    </tr>\n",
              "    <tr>\n",
              "      <th>8</th>\n",
              "      <td>False</td>\n",
              "      <td>3</td>\n",
              "      <td>90-119 days overdue</td>\n",
              "      <td>99</td>\n",
              "    </tr>\n",
              "    <tr>\n",
              "      <th>9</th>\n",
              "      <td>False</td>\n",
              "      <td>4</td>\n",
              "      <td>120-149 days overdue</td>\n",
              "      <td>90</td>\n",
              "    </tr>\n",
              "    <tr>\n",
              "      <th>10</th>\n",
              "      <td>True</td>\n",
              "      <td>3</td>\n",
              "      <td>90-119 days overdue</td>\n",
              "      <td>82</td>\n",
              "    </tr>\n",
              "    <tr>\n",
              "      <th>11</th>\n",
              "      <td>True</td>\n",
              "      <td>4</td>\n",
              "      <td>120-149 days overdue</td>\n",
              "      <td>62</td>\n",
              "    </tr>\n",
              "  </tbody>\n",
              "</table>\n",
              "</div>"
            ],
            "text/plain": [
              "    FLAG_OWN_CAR STATUS                                     PAYMENT_STATUS  \\\n",
              "0          False      0                                 1-29 days past due   \n",
              "1           True      0                                 1-29 days past due   \n",
              "2          False      1                                30-59 days past due   \n",
              "3           True      1                                30-59 days past due   \n",
              "4          False      5  Overdue or bad debts, write-offs for more than...   \n",
              "5           True      5  Overdue or bad debts, write-offs for more than...   \n",
              "6          False      2                                 60-89 days overdue   \n",
              "7           True      2                                 60-89 days overdue   \n",
              "8          False      3                                90-119 days overdue   \n",
              "9          False      4                               120-149 days overdue   \n",
              "10          True      3                                90-119 days overdue   \n",
              "11          True      4                               120-149 days overdue   \n",
              "\n",
              "    NO_OF_APPLICANTS  \n",
              "0             114719  \n",
              "1              86211  \n",
              "2               3808  \n",
              "3               2615  \n",
              "4                574  \n",
              "5                513  \n",
              "6                305  \n",
              "7                237  \n",
              "8                 99  \n",
              "9                 90  \n",
              "10                82  \n",
              "11                62  "
            ]
          },
          "execution_count": 4,
          "metadata": {},
          "output_type": "execute_result"
        }
      ],
      "source": [
        "%%bigquery\n",
        "SELECT\n",
        "a.FLAG_OWN_CAR,c.STATUS,\n",
        "CASE\n",
        " WHEN STATUS='0' THEN '1-29 days past due'\n",
        " WHEN STATUS='1' THEN '30-59 days past due'\n",
        " WHEN STATUS='2' THEN '60-89 days overdue'\n",
        " WHEN STATUS='3' THEN '90-119 days overdue'\n",
        " WHEN STATUS='4' THEN '120-149 days overdue'\n",
        " WHEN STATUS='5' THEN 'Overdue or bad debts, write-offs for more than 150 days'\n",
        " WHEN STATUS='C' THEN 'paid off that month'\n",
        " WHEN STATUS='X' THEN 'No loan for the month'END AS PAYMENT_STATUS,\n",
        "COUNT(a.ID) NO_OF_APPLICANTS\n",
        "FROM `ba775-team-project-team3.creditcard.application_record` as a\n",
        "INNER JOIN `ba775-team-project-team3.creditcard.credit_record` as c\n",
        "ON a.ID = c.ID\n",
        "WHERE OCCUPATION_TYPE is not null\n",
        "GROUP BY 1,2\n",
        "HAVING c.STATUS in ('0', '1', '2','3','4','5')\n",
        "ORDER BY NO_OF_APPLICANTS DESC,c.STATUS;"
      ]
    },
    {
      "cell_type": "markdown",
      "id": "b279c9fe-78e9-436a-ab82-06504cfdcac3",
      "metadata": {
        "id": "b279c9fe-78e9-436a-ab82-06504cfdcac3"
      },
      "source": [
        "#### Q9. What are the most common education levels for people who had overdue debt and what are their average annual income?"
      ]
    },
    {
      "cell_type": "code",
      "execution_count": null,
      "id": "f3dcb8da-2b21-4662-93c1-afc092a1e221",
      "metadata": {
        "id": "f3dcb8da-2b21-4662-93c1-afc092a1e221",
        "outputId": "ab63bc2e-887f-44e2-b40b-4db638286407"
      },
      "outputs": [
        {
          "name": "stderr",
          "output_type": "stream",
          "text": [
            "Query complete after 0.00s: 100%|██████████| 4/4 [00:00<00:00, 1061.71query/s]                        \n",
            "Downloading: 100%|██████████| 26/26 [00:01<00:00, 18.34rows/s]\n"
          ]
        },
        {
          "data": {
            "text/html": [
              "<div>\n",
              "<style scoped>\n",
              "    .dataframe tbody tr th:only-of-type {\n",
              "        vertical-align: middle;\n",
              "    }\n",
              "\n",
              "    .dataframe tbody tr th {\n",
              "        vertical-align: top;\n",
              "    }\n",
              "\n",
              "    .dataframe thead th {\n",
              "        text-align: right;\n",
              "    }\n",
              "</style>\n",
              "<table border=\"1\" class=\"dataframe\">\n",
              "  <thead>\n",
              "    <tr style=\"text-align: right;\">\n",
              "      <th></th>\n",
              "      <th>PAYMENT_STATUS</th>\n",
              "      <th>EDUCATION_LEVEL</th>\n",
              "      <th>NUM_PPL</th>\n",
              "      <th>AVG_INCOME</th>\n",
              "    </tr>\n",
              "  </thead>\n",
              "  <tbody>\n",
              "    <tr>\n",
              "      <th>0</th>\n",
              "      <td>1-29 days past due</td>\n",
              "      <td>Secondary / secondary special</td>\n",
              "      <td>135667</td>\n",
              "      <td>183229.550495</td>\n",
              "    </tr>\n",
              "    <tr>\n",
              "      <th>1</th>\n",
              "      <td>1-29 days past due</td>\n",
              "      <td>Higher education</td>\n",
              "      <td>55943</td>\n",
              "      <td>238127.948385</td>\n",
              "    </tr>\n",
              "    <tr>\n",
              "      <th>2</th>\n",
              "      <td>1-29 days past due</td>\n",
              "      <td>Incomplete higher</td>\n",
              "      <td>7914</td>\n",
              "      <td>209334.097801</td>\n",
              "    </tr>\n",
              "    <tr>\n",
              "      <th>3</th>\n",
              "      <td>1-29 days past due</td>\n",
              "      <td>Lower secondary</td>\n",
              "      <td>1382</td>\n",
              "      <td>164347.033285</td>\n",
              "    </tr>\n",
              "    <tr>\n",
              "      <th>4</th>\n",
              "      <td>1-29 days past due</td>\n",
              "      <td>Academic degree</td>\n",
              "      <td>24</td>\n",
              "      <td>213750.000000</td>\n",
              "    </tr>\n",
              "    <tr>\n",
              "      <th>5</th>\n",
              "      <td>30-59 days past due</td>\n",
              "      <td>Secondary / secondary special</td>\n",
              "      <td>4288</td>\n",
              "      <td>186144.515975</td>\n",
              "    </tr>\n",
              "    <tr>\n",
              "      <th>6</th>\n",
              "      <td>30-59 days past due</td>\n",
              "      <td>Higher education</td>\n",
              "      <td>1750</td>\n",
              "      <td>243114.438857</td>\n",
              "    </tr>\n",
              "    <tr>\n",
              "      <th>7</th>\n",
              "      <td>30-59 days past due</td>\n",
              "      <td>Incomplete higher</td>\n",
              "      <td>327</td>\n",
              "      <td>201839.449541</td>\n",
              "    </tr>\n",
              "    <tr>\n",
              "      <th>8</th>\n",
              "      <td>30-59 days past due</td>\n",
              "      <td>Lower secondary</td>\n",
              "      <td>51</td>\n",
              "      <td>157500.000000</td>\n",
              "    </tr>\n",
              "    <tr>\n",
              "      <th>9</th>\n",
              "      <td>30-59 days past due</td>\n",
              "      <td>Academic degree</td>\n",
              "      <td>7</td>\n",
              "      <td>270000.000000</td>\n",
              "    </tr>\n",
              "    <tr>\n",
              "      <th>10</th>\n",
              "      <td>60-89 days overdue</td>\n",
              "      <td>Secondary / secondary special</td>\n",
              "      <td>344</td>\n",
              "      <td>186130.805233</td>\n",
              "    </tr>\n",
              "    <tr>\n",
              "      <th>11</th>\n",
              "      <td>60-89 days overdue</td>\n",
              "      <td>Higher education</td>\n",
              "      <td>166</td>\n",
              "      <td>232935.668675</td>\n",
              "    </tr>\n",
              "    <tr>\n",
              "      <th>12</th>\n",
              "      <td>60-89 days overdue</td>\n",
              "      <td>Incomplete higher</td>\n",
              "      <td>27</td>\n",
              "      <td>168666.666667</td>\n",
              "    </tr>\n",
              "    <tr>\n",
              "      <th>13</th>\n",
              "      <td>60-89 days overdue</td>\n",
              "      <td>Lower secondary</td>\n",
              "      <td>5</td>\n",
              "      <td>146340.000000</td>\n",
              "    </tr>\n",
              "    <tr>\n",
              "      <th>14</th>\n",
              "      <td>90-119 days overdue</td>\n",
              "      <td>Secondary / secondary special</td>\n",
              "      <td>120</td>\n",
              "      <td>188111.250000</td>\n",
              "    </tr>\n",
              "    <tr>\n",
              "      <th>15</th>\n",
              "      <td>90-119 days overdue</td>\n",
              "      <td>Higher education</td>\n",
              "      <td>50</td>\n",
              "      <td>244701.000000</td>\n",
              "    </tr>\n",
              "    <tr>\n",
              "      <th>16</th>\n",
              "      <td>90-119 days overdue</td>\n",
              "      <td>Incomplete higher</td>\n",
              "      <td>7</td>\n",
              "      <td>156214.285714</td>\n",
              "    </tr>\n",
              "    <tr>\n",
              "      <th>17</th>\n",
              "      <td>90-119 days overdue</td>\n",
              "      <td>Lower secondary</td>\n",
              "      <td>4</td>\n",
              "      <td>135000.000000</td>\n",
              "    </tr>\n",
              "    <tr>\n",
              "      <th>18</th>\n",
              "      <td>120-149 days overdue</td>\n",
              "      <td>Secondary / secondary special</td>\n",
              "      <td>93</td>\n",
              "      <td>199901.612903</td>\n",
              "    </tr>\n",
              "    <tr>\n",
              "      <th>19</th>\n",
              "      <td>120-149 days overdue</td>\n",
              "      <td>Higher education</td>\n",
              "      <td>35</td>\n",
              "      <td>278730.000000</td>\n",
              "    </tr>\n",
              "    <tr>\n",
              "      <th>20</th>\n",
              "      <td>120-149 days overdue</td>\n",
              "      <td>Incomplete higher</td>\n",
              "      <td>19</td>\n",
              "      <td>169578.947368</td>\n",
              "    </tr>\n",
              "    <tr>\n",
              "      <th>21</th>\n",
              "      <td>120-149 days overdue</td>\n",
              "      <td>Lower secondary</td>\n",
              "      <td>5</td>\n",
              "      <td>135000.000000</td>\n",
              "    </tr>\n",
              "    <tr>\n",
              "      <th>22</th>\n",
              "      <td>Overdue or bad debts, write-offs for more than...</td>\n",
              "      <td>Secondary / secondary special</td>\n",
              "      <td>626</td>\n",
              "      <td>177550.159744</td>\n",
              "    </tr>\n",
              "    <tr>\n",
              "      <th>23</th>\n",
              "      <td>Overdue or bad debts, write-offs for more than...</td>\n",
              "      <td>Higher education</td>\n",
              "      <td>402</td>\n",
              "      <td>248214.179104</td>\n",
              "    </tr>\n",
              "    <tr>\n",
              "      <th>24</th>\n",
              "      <td>Overdue or bad debts, write-offs for more than...</td>\n",
              "      <td>Lower secondary</td>\n",
              "      <td>35</td>\n",
              "      <td>123428.571429</td>\n",
              "    </tr>\n",
              "    <tr>\n",
              "      <th>25</th>\n",
              "      <td>Overdue or bad debts, write-offs for more than...</td>\n",
              "      <td>Incomplete higher</td>\n",
              "      <td>24</td>\n",
              "      <td>190687.500000</td>\n",
              "    </tr>\n",
              "  </tbody>\n",
              "</table>\n",
              "</div>"
            ],
            "text/plain": [
              "                                       PAYMENT_STATUS  \\\n",
              "0                                  1-29 days past due   \n",
              "1                                  1-29 days past due   \n",
              "2                                  1-29 days past due   \n",
              "3                                  1-29 days past due   \n",
              "4                                  1-29 days past due   \n",
              "5                                 30-59 days past due   \n",
              "6                                 30-59 days past due   \n",
              "7                                 30-59 days past due   \n",
              "8                                 30-59 days past due   \n",
              "9                                 30-59 days past due   \n",
              "10                                 60-89 days overdue   \n",
              "11                                 60-89 days overdue   \n",
              "12                                 60-89 days overdue   \n",
              "13                                 60-89 days overdue   \n",
              "14                                90-119 days overdue   \n",
              "15                                90-119 days overdue   \n",
              "16                                90-119 days overdue   \n",
              "17                                90-119 days overdue   \n",
              "18                               120-149 days overdue   \n",
              "19                               120-149 days overdue   \n",
              "20                               120-149 days overdue   \n",
              "21                               120-149 days overdue   \n",
              "22  Overdue or bad debts, write-offs for more than...   \n",
              "23  Overdue or bad debts, write-offs for more than...   \n",
              "24  Overdue or bad debts, write-offs for more than...   \n",
              "25  Overdue or bad debts, write-offs for more than...   \n",
              "\n",
              "                  EDUCATION_LEVEL  NUM_PPL     AVG_INCOME  \n",
              "0   Secondary / secondary special   135667  183229.550495  \n",
              "1                Higher education    55943  238127.948385  \n",
              "2               Incomplete higher     7914  209334.097801  \n",
              "3                 Lower secondary     1382  164347.033285  \n",
              "4                 Academic degree       24  213750.000000  \n",
              "5   Secondary / secondary special     4288  186144.515975  \n",
              "6                Higher education     1750  243114.438857  \n",
              "7               Incomplete higher      327  201839.449541  \n",
              "8                 Lower secondary       51  157500.000000  \n",
              "9                 Academic degree        7  270000.000000  \n",
              "10  Secondary / secondary special      344  186130.805233  \n",
              "11               Higher education      166  232935.668675  \n",
              "12              Incomplete higher       27  168666.666667  \n",
              "13                Lower secondary        5  146340.000000  \n",
              "14  Secondary / secondary special      120  188111.250000  \n",
              "15               Higher education       50  244701.000000  \n",
              "16              Incomplete higher        7  156214.285714  \n",
              "17                Lower secondary        4  135000.000000  \n",
              "18  Secondary / secondary special       93  199901.612903  \n",
              "19               Higher education       35  278730.000000  \n",
              "20              Incomplete higher       19  169578.947368  \n",
              "21                Lower secondary        5  135000.000000  \n",
              "22  Secondary / secondary special      626  177550.159744  \n",
              "23               Higher education      402  248214.179104  \n",
              "24                Lower secondary       35  123428.571429  \n",
              "25              Incomplete higher       24  190687.500000  "
            ]
          },
          "execution_count": 36,
          "metadata": {},
          "output_type": "execute_result"
        }
      ],
      "source": [
        "%%bigquery\n",
        "SELECT\n",
        "CASE\n",
        " WHEN STATUS='0' THEN '1-29 days past due'\n",
        " WHEN STATUS='1' THEN '30-59 days past due'\n",
        " WHEN STATUS='2' THEN '60-89 days overdue'\n",
        " WHEN STATUS='3' THEN '90-119 days overdue'\n",
        " WHEN STATUS='4' THEN '120-149 days overdue'\n",
        " WHEN STATUS='5' THEN 'Overdue or bad debts, write-offs for more than 150 days'\n",
        "END AS PAYMENT_STATUS,\n",
        "NAME_EDUCATION_TYPE AS EDUCATION_LEVEL,\n",
        "COUNT(*) AS NUM_PPL,\n",
        "AVG(AMT_INCOME_TOTAL) AS AVG_INCOME\n",
        "FROM `ba775-team-project-team3.creditcard.credit_record` as c\n",
        "INNER JOIN `ba775-team-project-team3.creditcard.application_record` as a\n",
        "ON c.id=a.id\n",
        "WHERE STATUS NOT IN('C','X')\n",
        "AND OCCUPATION_TYPE IS NOT NULL\n",
        "GROUP BY STATUS,NAME_EDUCATION_TYPE\n",
        "HAVING EDUCATION_LEVEL!='None'\n",
        "ORDER BY STATUS,NUM_PPL DESC\n"
      ]
    },
    {
      "cell_type": "markdown",
      "id": "6620721d-4f3e-45e0-91c9-b17c15fe5765",
      "metadata": {
        "id": "6620721d-4f3e-45e0-91c9-b17c15fe5765"
      },
      "source": [
        "#### Q10. What proportion of each debt status group are unemployed?\n",
        "To understand how unemployment are related to debt status, we want to see the unemployment percentage for each debt status"
      ]
    },
    {
      "cell_type": "code",
      "execution_count": null,
      "id": "4ba3dda4-088b-460d-8f49-b7bd44e0cfa5",
      "metadata": {
        "id": "4ba3dda4-088b-460d-8f49-b7bd44e0cfa5",
        "outputId": "3568b313-5d57-428e-837b-fcbbf7461654"
      },
      "outputs": [
        {
          "name": "stderr",
          "output_type": "stream",
          "text": [
            "Query complete after 0.00s: 100%|██████████| 4/4 [00:00<00:00, 1648.54query/s]                        \n",
            "Downloading: 100%|██████████| 6/6 [00:01<00:00,  3.51rows/s]\n"
          ]
        },
        {
          "data": {
            "text/html": [
              "<div>\n",
              "<style scoped>\n",
              "    .dataframe tbody tr th:only-of-type {\n",
              "        vertical-align: middle;\n",
              "    }\n",
              "\n",
              "    .dataframe tbody tr th {\n",
              "        vertical-align: top;\n",
              "    }\n",
              "\n",
              "    .dataframe thead th {\n",
              "        text-align: right;\n",
              "    }\n",
              "</style>\n",
              "<table border=\"1\" class=\"dataframe\">\n",
              "  <thead>\n",
              "    <tr style=\"text-align: right;\">\n",
              "      <th></th>\n",
              "      <th>STATUS</th>\n",
              "      <th>DEBT_STATUS</th>\n",
              "      <th>UNEMPLOYED_PERCENTAGE</th>\n",
              "    </tr>\n",
              "  </thead>\n",
              "  <tbody>\n",
              "    <tr>\n",
              "      <th>0</th>\n",
              "      <td>0</td>\n",
              "      <td>1-29 days past due</td>\n",
              "      <td>12.43</td>\n",
              "    </tr>\n",
              "    <tr>\n",
              "      <th>1</th>\n",
              "      <td>1</td>\n",
              "      <td>30-59 days past due</td>\n",
              "      <td>10.17</td>\n",
              "    </tr>\n",
              "    <tr>\n",
              "      <th>2</th>\n",
              "      <td>2</td>\n",
              "      <td>60-89 days overdue</td>\n",
              "      <td>17.17</td>\n",
              "    </tr>\n",
              "    <tr>\n",
              "      <th>3</th>\n",
              "      <td>3</td>\n",
              "      <td>90-119 days overdue</td>\n",
              "      <td>22.81</td>\n",
              "    </tr>\n",
              "    <tr>\n",
              "      <th>4</th>\n",
              "      <td>4</td>\n",
              "      <td>120-149 days overdue</td>\n",
              "      <td>16.59</td>\n",
              "    </tr>\n",
              "    <tr>\n",
              "      <th>5</th>\n",
              "      <td>5</td>\n",
              "      <td>Overdue or bad debts, write-offs for more than...</td>\n",
              "      <td>15.71</td>\n",
              "    </tr>\n",
              "  </tbody>\n",
              "</table>\n",
              "</div>"
            ],
            "text/plain": [
              "  STATUS                                        DEBT_STATUS  \\\n",
              "0      0                                 1-29 days past due   \n",
              "1      1                                30-59 days past due   \n",
              "2      2                                 60-89 days overdue   \n",
              "3      3                                90-119 days overdue   \n",
              "4      4                               120-149 days overdue   \n",
              "5      5  Overdue or bad debts, write-offs for more than...   \n",
              "\n",
              "   UNEMPLOYED_PERCENTAGE  \n",
              "0                  12.43  \n",
              "1                  10.17  \n",
              "2                  17.17  \n",
              "3                  22.81  \n",
              "4                  16.59  \n",
              "5                  15.71  "
            ]
          },
          "execution_count": 19,
          "metadata": {},
          "output_type": "execute_result"
        }
      ],
      "source": [
        "%%bigquery\n",
        "SELECT STATUS,\n",
        "CASE\n",
        " WHEN STATUS='0' THEN '1-29 days past due'\n",
        " WHEN STATUS='1' THEN '30-59 days past due'\n",
        " WHEN STATUS='2' THEN '60-89 days overdue'\n",
        " WHEN STATUS='3' THEN '90-119 days overdue'\n",
        " WHEN STATUS='4' THEN '120-149 days overdue'\n",
        " WHEN STATUS='5' THEN 'Overdue or bad debts, write-offs for more than 150 days'\n",
        "END AS DEBT_STATUS,\n",
        "ROUND(SUM(\n",
        "CASE WHEN DAYS_EMPLOYED>0 THEN 1\n",
        "ELSE 0 END\n",
        ")/COUNT(*)*100,2) AS UNEMPLOYED_PERCENTAGE\n",
        "FROM `ba775-team-project-team3.creditcard.credit_record` AS c\n",
        "LEFT JOIN `ba775-team-project-team3.creditcard.application_record`  AS a\n",
        "ON c.ID=a.ID\n",
        "WHERE STATUS NOT IN ('C','X')\n",
        "GROUP BY STATUS\n",
        "ORDER BY STATUS"
      ]
    },
    {
      "cell_type": "markdown",
      "id": "ce6ff2ae-256d-42cc-8ef3-7b53aa6c3761",
      "metadata": {
        "id": "ce6ff2ae-256d-42cc-8ef3-7b53aa6c3761"
      },
      "source": [
        "After the model has been trained, we can get the coefficients of the model, which can be found in the last cell. We note that isMale and isFemale will be the main factors for passenger survival, which is also supported by our exploratory data analysis. The next important set of characteristics is whether or not you own a car, whether or not you own a realty,do you have work phone,and the type of income have the biggest impact.\n"
      ]
    },
    {
      "cell_type": "markdown",
      "id": "f66a7d56-d963-4f0a-9016-adbbd605beef",
      "metadata": {
        "id": "f66a7d56-d963-4f0a-9016-adbbd605beef"
      },
      "source": [
        "#### Q11. How income type affect whether they pay off their loan?"
      ]
    },
    {
      "cell_type": "code",
      "execution_count": null,
      "id": "4949958a-5040-467a-9c2d-0b83655577f3",
      "metadata": {
        "id": "4949958a-5040-467a-9c2d-0b83655577f3",
        "outputId": "815e0c1f-2e6b-4bb2-e91d-b2ced43c374c"
      },
      "outputs": [
        {
          "name": "stderr",
          "output_type": "stream",
          "text": [
            "Query complete after 0.00s: 100%|██████████| 5/5 [00:00<00:00, 2863.79query/s]                        \n",
            "Downloading: 100%|██████████| 5/5 [00:01<00:00,  3.49rows/s]\n"
          ]
        },
        {
          "data": {
            "text/html": [
              "<div>\n",
              "<style scoped>\n",
              "    .dataframe tbody tr th:only-of-type {\n",
              "        vertical-align: middle;\n",
              "    }\n",
              "\n",
              "    .dataframe tbody tr th {\n",
              "        vertical-align: top;\n",
              "    }\n",
              "\n",
              "    .dataframe thead th {\n",
              "        text-align: right;\n",
              "    }\n",
              "</style>\n",
              "<table border=\"1\" class=\"dataframe\">\n",
              "  <thead>\n",
              "    <tr style=\"text-align: right;\">\n",
              "      <th></th>\n",
              "      <th>STATUS</th>\n",
              "      <th>PAYMENT_STATUS</th>\n",
              "      <th>NAME_INCOME_TYPE</th>\n",
              "      <th>NO_OF_APPLICANTS</th>\n",
              "    </tr>\n",
              "  </thead>\n",
              "  <tbody>\n",
              "    <tr>\n",
              "      <th>0</th>\n",
              "      <td>C</td>\n",
              "      <td>paid off that month</td>\n",
              "      <td>Working</td>\n",
              "      <td>7663</td>\n",
              "    </tr>\n",
              "    <tr>\n",
              "      <th>1</th>\n",
              "      <td>C</td>\n",
              "      <td>paid off that month</td>\n",
              "      <td>Commercial associate</td>\n",
              "      <td>3436</td>\n",
              "    </tr>\n",
              "    <tr>\n",
              "      <th>2</th>\n",
              "      <td>C</td>\n",
              "      <td>paid off that month</td>\n",
              "      <td>State servant</td>\n",
              "      <td>1204</td>\n",
              "    </tr>\n",
              "    <tr>\n",
              "      <th>3</th>\n",
              "      <td>C</td>\n",
              "      <td>paid off that month</td>\n",
              "      <td>Student</td>\n",
              "      <td>8</td>\n",
              "    </tr>\n",
              "    <tr>\n",
              "      <th>4</th>\n",
              "      <td>C</td>\n",
              "      <td>paid off that month</td>\n",
              "      <td>Pensioner</td>\n",
              "      <td>8</td>\n",
              "    </tr>\n",
              "  </tbody>\n",
              "</table>\n",
              "</div>"
            ],
            "text/plain": [
              "  STATUS       PAYMENT_STATUS      NAME_INCOME_TYPE  NO_OF_APPLICANTS\n",
              "0      C  paid off that month               Working              7663\n",
              "1      C  paid off that month  Commercial associate              3436\n",
              "2      C  paid off that month         State servant              1204\n",
              "3      C  paid off that month               Student                 8\n",
              "4      C  paid off that month             Pensioner                 8"
            ]
          },
          "execution_count": 75,
          "metadata": {},
          "output_type": "execute_result"
        }
      ],
      "source": [
        "%%bigquery\n",
        "\n",
        "\n",
        "SELECT\n",
        "c.STATUS,\n",
        "CASE\n",
        " WHEN STATUS='0' THEN '1-29 days past due'\n",
        " WHEN STATUS='1' THEN '30-59 days past due'\n",
        " WHEN STATUS='2' THEN '60-89 days overdue'\n",
        " WHEN STATUS='3' THEN '90-119 days overdue'\n",
        " WHEN STATUS='4' THEN '120-149 days overdue'\n",
        " WHEN STATUS='5' THEN 'Overdue or bad debts, write-offs for more than 150 days'\n",
        " WHEN STATUS='C' THEN 'paid off that month'\n",
        " WHEN STATUS='X' THEN 'No loan for the month'END AS PAYMENT_STATUS,\n",
        "a.NAME_INCOME_TYPE,COUNT(DISTINCT a.ID) NO_OF_APPLICANTS,\n",
        "FROM `ba775-team-project-team3.creditcard.application_record` as a\n",
        "INNER JOIN `ba775-team-project-team3.creditcard.credit_record` as c\n",
        "ON a.ID = c.ID\n",
        "WHERE OCCUPATION_TYPE is not null\n",
        "GROUP BY c.STATUS,a.NAME_INCOME_TYPE\n",
        "HAVING c.STATUS = 'C'\n",
        "ORDER BY c.STATUS,NO_OF_APPLICANTS DESC;\n"
      ]
    },
    {
      "cell_type": "markdown",
      "id": "6f560ed8-f5a8-45d1-bf5b-2e1bbb430477",
      "metadata": {
        "id": "6f560ed8-f5a8-45d1-bf5b-2e1bbb430477"
      },
      "source": [
        "#### Q12. How do you judge consumer's loan payoff status if they own a car?"
      ]
    },
    {
      "cell_type": "code",
      "execution_count": null,
      "id": "1255f4b0-d28c-4e7a-9c07-e21be5e8de51",
      "metadata": {
        "id": "1255f4b0-d28c-4e7a-9c07-e21be5e8de51",
        "outputId": "f2395966-f0d0-4ee5-e338-f6c32d839251"
      },
      "outputs": [
        {
          "name": "stderr",
          "output_type": "stream",
          "text": [
            "Query complete after 0.00s: 100%|██████████| 5/5 [00:00<00:00, 2616.53query/s]                        \n",
            "Downloading: 100%|██████████| 16/16 [00:01<00:00,  9.95rows/s]\n"
          ]
        },
        {
          "data": {
            "text/html": [
              "<div>\n",
              "<style scoped>\n",
              "    .dataframe tbody tr th:only-of-type {\n",
              "        vertical-align: middle;\n",
              "    }\n",
              "\n",
              "    .dataframe tbody tr th {\n",
              "        vertical-align: top;\n",
              "    }\n",
              "\n",
              "    .dataframe thead th {\n",
              "        text-align: right;\n",
              "    }\n",
              "</style>\n",
              "<table border=\"1\" class=\"dataframe\">\n",
              "  <thead>\n",
              "    <tr style=\"text-align: right;\">\n",
              "      <th></th>\n",
              "      <th>FLAG_OWN_CAR</th>\n",
              "      <th>STATUS</th>\n",
              "      <th>PAYMENT_STATUS</th>\n",
              "      <th>NO_OF_APPLICANTS</th>\n",
              "    </tr>\n",
              "  </thead>\n",
              "  <tbody>\n",
              "    <tr>\n",
              "      <th>0</th>\n",
              "      <td>False</td>\n",
              "      <td>0</td>\n",
              "      <td>1-29 days past due</td>\n",
              "      <td>12848</td>\n",
              "    </tr>\n",
              "    <tr>\n",
              "      <th>1</th>\n",
              "      <td>True</td>\n",
              "      <td>0</td>\n",
              "      <td>1-29 days past due</td>\n",
              "      <td>9165</td>\n",
              "    </tr>\n",
              "    <tr>\n",
              "      <th>2</th>\n",
              "      <td>False</td>\n",
              "      <td>X</td>\n",
              "      <td>No loan for the month</td>\n",
              "      <td>7760</td>\n",
              "    </tr>\n",
              "    <tr>\n",
              "      <th>3</th>\n",
              "      <td>False</td>\n",
              "      <td>C</td>\n",
              "      <td>paid off that month</td>\n",
              "      <td>7149</td>\n",
              "    </tr>\n",
              "    <tr>\n",
              "      <th>4</th>\n",
              "      <td>True</td>\n",
              "      <td>X</td>\n",
              "      <td>No loan for the month</td>\n",
              "      <td>5721</td>\n",
              "    </tr>\n",
              "    <tr>\n",
              "      <th>5</th>\n",
              "      <td>True</td>\n",
              "      <td>C</td>\n",
              "      <td>paid off that month</td>\n",
              "      <td>5170</td>\n",
              "    </tr>\n",
              "    <tr>\n",
              "      <th>6</th>\n",
              "      <td>False</td>\n",
              "      <td>1</td>\n",
              "      <td>30-59 days past due</td>\n",
              "      <td>1795</td>\n",
              "    </tr>\n",
              "    <tr>\n",
              "      <th>7</th>\n",
              "      <td>True</td>\n",
              "      <td>1</td>\n",
              "      <td>30-59 days past due</td>\n",
              "      <td>1208</td>\n",
              "    </tr>\n",
              "    <tr>\n",
              "      <th>8</th>\n",
              "      <td>False</td>\n",
              "      <td>2</td>\n",
              "      <td>60-89 days overdue</td>\n",
              "      <td>215</td>\n",
              "    </tr>\n",
              "    <tr>\n",
              "      <th>9</th>\n",
              "      <td>True</td>\n",
              "      <td>2</td>\n",
              "      <td>60-89 days overdue</td>\n",
              "      <td>166</td>\n",
              "    </tr>\n",
              "    <tr>\n",
              "      <th>10</th>\n",
              "      <td>False</td>\n",
              "      <td>3</td>\n",
              "      <td>90-119 days overdue</td>\n",
              "      <td>88</td>\n",
              "    </tr>\n",
              "    <tr>\n",
              "      <th>11</th>\n",
              "      <td>False</td>\n",
              "      <td>5</td>\n",
              "      <td>Overdue or bad debts, write-offs for more than...</td>\n",
              "      <td>77</td>\n",
              "    </tr>\n",
              "    <tr>\n",
              "      <th>12</th>\n",
              "      <td>True</td>\n",
              "      <td>3</td>\n",
              "      <td>90-119 days overdue</td>\n",
              "      <td>73</td>\n",
              "    </tr>\n",
              "    <tr>\n",
              "      <th>13</th>\n",
              "      <td>False</td>\n",
              "      <td>4</td>\n",
              "      <td>120-149 days overdue</td>\n",
              "      <td>72</td>\n",
              "    </tr>\n",
              "    <tr>\n",
              "      <th>14</th>\n",
              "      <td>True</td>\n",
              "      <td>4</td>\n",
              "      <td>120-149 days overdue</td>\n",
              "      <td>56</td>\n",
              "    </tr>\n",
              "    <tr>\n",
              "      <th>15</th>\n",
              "      <td>True</td>\n",
              "      <td>5</td>\n",
              "      <td>Overdue or bad debts, write-offs for more than...</td>\n",
              "      <td>47</td>\n",
              "    </tr>\n",
              "  </tbody>\n",
              "</table>\n",
              "</div>"
            ],
            "text/plain": [
              "    FLAG_OWN_CAR STATUS                                     PAYMENT_STATUS  \\\n",
              "0          False      0                                 1-29 days past due   \n",
              "1           True      0                                 1-29 days past due   \n",
              "2          False      X                              No loan for the month   \n",
              "3          False      C                                paid off that month   \n",
              "4           True      X                              No loan for the month   \n",
              "5           True      C                                paid off that month   \n",
              "6          False      1                                30-59 days past due   \n",
              "7           True      1                                30-59 days past due   \n",
              "8          False      2                                 60-89 days overdue   \n",
              "9           True      2                                 60-89 days overdue   \n",
              "10         False      3                                90-119 days overdue   \n",
              "11         False      5  Overdue or bad debts, write-offs for more than...   \n",
              "12          True      3                                90-119 days overdue   \n",
              "13         False      4                               120-149 days overdue   \n",
              "14          True      4                               120-149 days overdue   \n",
              "15          True      5  Overdue or bad debts, write-offs for more than...   \n",
              "\n",
              "    NO_OF_APPLICANTS  \n",
              "0              12848  \n",
              "1               9165  \n",
              "2               7760  \n",
              "3               7149  \n",
              "4               5721  \n",
              "5               5170  \n",
              "6               1795  \n",
              "7               1208  \n",
              "8                215  \n",
              "9                166  \n",
              "10                88  \n",
              "11                77  \n",
              "12                73  \n",
              "13                72  \n",
              "14                56  \n",
              "15                47  "
            ]
          },
          "execution_count": 76,
          "metadata": {},
          "output_type": "execute_result"
        }
      ],
      "source": [
        "%%bigquery\n",
        "SELECT\n",
        "a.FLAG_OWN_CAR,c.STATUS,\n",
        "CASE\n",
        " WHEN STATUS='0' THEN '1-29 days past due'\n",
        " WHEN STATUS='1' THEN '30-59 days past due'\n",
        " WHEN STATUS='2' THEN '60-89 days overdue'\n",
        " WHEN STATUS='3' THEN '90-119 days overdue'\n",
        " WHEN STATUS='4' THEN '120-149 days overdue'\n",
        " WHEN STATUS='5' THEN 'Overdue or bad debts, write-offs for more than 150 days'\n",
        " WHEN STATUS='C' THEN 'paid off that month'\n",
        " WHEN STATUS='X' THEN 'No loan for the month'END AS PAYMENT_STATUS,\n",
        "COUNT(DISTINCT a.ID) NO_OF_APPLICANTS\n",
        "FROM `ba775-team-project-team3.creditcard.application_record` as a\n",
        "INNER JOIN `ba775-team-project-team3.creditcard.credit_record` as c\n",
        "ON a.ID = c.ID\n",
        "WHERE OCCUPATION_TYPE is not null\n",
        "GROUP BY 1,2\n",
        "\n",
        "ORDER BY NO_OF_APPLICANTS DESC,c.STATUS;"
      ]
    },
    {
      "cell_type": "markdown",
      "id": "4a7879e9-26d4-4086-bbc8-8d01278d12f3",
      "metadata": {
        "id": "4a7879e9-26d4-4086-bbc8-8d01278d12f3"
      },
      "source": [
        "#### Q13. What percentage of young people (18-24 years old) have credit card?"
      ]
    },
    {
      "cell_type": "code",
      "execution_count": null,
      "id": "552d9e99-066c-4a35-8eb1-83cfecae84e8",
      "metadata": {
        "id": "552d9e99-066c-4a35-8eb1-83cfecae84e8",
        "outputId": "faeb9efe-da38-4776-b354-c7d78b0800ce"
      },
      "outputs": [
        {
          "name": "stderr",
          "output_type": "stream",
          "text": [
            "Query complete after 0.00s: 100%|██████████| 5/5 [00:00<00:00, 2747.12query/s]                        \n",
            "Downloading: 100%|██████████| 5/5 [00:01<00:00,  3.37rows/s]\n"
          ]
        },
        {
          "data": {
            "text/html": [
              "<div>\n",
              "<style scoped>\n",
              "    .dataframe tbody tr th:only-of-type {\n",
              "        vertical-align: middle;\n",
              "    }\n",
              "\n",
              "    .dataframe tbody tr th {\n",
              "        vertical-align: top;\n",
              "    }\n",
              "\n",
              "    .dataframe thead th {\n",
              "        text-align: right;\n",
              "    }\n",
              "</style>\n",
              "<table border=\"1\" class=\"dataframe\">\n",
              "  <thead>\n",
              "    <tr style=\"text-align: right;\">\n",
              "      <th></th>\n",
              "      <th>years_birth_category</th>\n",
              "      <th>count</th>\n",
              "      <th>perct_count</th>\n",
              "    </tr>\n",
              "  </thead>\n",
              "  <tbody>\n",
              "    <tr>\n",
              "      <th>0</th>\n",
              "      <td>40-55 years old</td>\n",
              "      <td>13403</td>\n",
              "      <td>36.76</td>\n",
              "    </tr>\n",
              "    <tr>\n",
              "      <th>1</th>\n",
              "      <td>30-40 years old</td>\n",
              "      <td>10439</td>\n",
              "      <td>28.63</td>\n",
              "    </tr>\n",
              "    <tr>\n",
              "      <th>2</th>\n",
              "      <td>over 55 years old</td>\n",
              "      <td>7687</td>\n",
              "      <td>21.09</td>\n",
              "    </tr>\n",
              "    <tr>\n",
              "      <th>3</th>\n",
              "      <td>25-30 years old</td>\n",
              "      <td>4556</td>\n",
              "      <td>12.50</td>\n",
              "    </tr>\n",
              "    <tr>\n",
              "      <th>4</th>\n",
              "      <td>18-24 years old</td>\n",
              "      <td>372</td>\n",
              "      <td>1.02</td>\n",
              "    </tr>\n",
              "  </tbody>\n",
              "</table>\n",
              "</div>"
            ],
            "text/plain": [
              "  years_birth_category  count  perct_count\n",
              "0      40-55 years old  13403        36.76\n",
              "1      30-40 years old  10439        28.63\n",
              "2    over 55 years old   7687        21.09\n",
              "3      25-30 years old   4556        12.50\n",
              "4      18-24 years old    372         1.02"
            ]
          },
          "execution_count": 58,
          "metadata": {},
          "output_type": "execute_result"
        }
      ],
      "source": [
        "%%bigquery\n",
        "SELECT\n",
        "  CASE\n",
        "    WHEN (DAYS_BIRTH / -365) < 18 THEN 'under 18 years old'\n",
        "    WHEN (DAYS_BIRTH / -365) >= 18  AND (DAYS_BIRTH / -365) <= 24 THEN '18-24 years old'\n",
        "    WHEN (DAYS_BIRTH / -365) > 24  AND (DAYS_BIRTH / -365) <= 30 THEN '25-30 years old'\n",
        "    WHEN (DAYS_BIRTH / -365) > 30  AND (DAYS_BIRTH / -365) <= 40 THEN '30-40 years old'\n",
        "    WHEN (DAYS_BIRTH / -365) > 40  AND (DAYS_BIRTH / -365) <= 55 THEN '40-55 years old'\n",
        "    ELSE 'over 55 years old'\n",
        "    END AS years_birth_category,\n",
        "  COUNT (DISTINCT app.ID) AS count,\n",
        "  ROUND(COUNT(distinct app.ID) /36457 *100,2) AS perct_count\n",
        "FROM `ba775-team-project-team3.creditcard.application_record` as app\n",
        "LEFT JOIN `ba775-team-project-team3.creditcard.credit_record` as cred\n",
        "ON app.ID = cred.ID\n",
        "WHERE app.ID = cred.ID\n",
        "GROUP BY years_birth_category\n",
        "ORDER BY count DESC"
      ]
    },
    {
      "cell_type": "markdown",
      "id": "5193c30e-e106-48c3-8d84-30b2393b1e65",
      "metadata": {
        "id": "5193c30e-e106-48c3-8d84-30b2393b1e65"
      },
      "source": [
        "#### Q14. Ranking credit card users based on how long they had debt"
      ]
    },
    {
      "cell_type": "code",
      "execution_count": null,
      "id": "9e173c9a-974a-4f73-a5b5-8855e176deb1",
      "metadata": {
        "id": "9e173c9a-974a-4f73-a5b5-8855e176deb1",
        "outputId": "598e77c0-12e4-4c0e-cda1-cb5c16951acd"
      },
      "outputs": [
        {
          "name": "stderr",
          "output_type": "stream",
          "text": [
            "Query complete after 0.00s: 100%|██████████| 10/10 [00:00<00:00, 6848.96query/s]                       \n",
            "Downloading: 100%|██████████| 10/10 [00:01<00:00,  6.53rows/s]\n"
          ]
        },
        {
          "data": {
            "text/html": [
              "<div>\n",
              "<style scoped>\n",
              "    .dataframe tbody tr th:only-of-type {\n",
              "        vertical-align: middle;\n",
              "    }\n",
              "\n",
              "    .dataframe tbody tr th {\n",
              "        vertical-align: top;\n",
              "    }\n",
              "\n",
              "    .dataframe thead th {\n",
              "        text-align: right;\n",
              "    }\n",
              "</style>\n",
              "<table border=\"1\" class=\"dataframe\">\n",
              "  <thead>\n",
              "    <tr style=\"text-align: right;\">\n",
              "      <th></th>\n",
              "      <th>ID</th>\n",
              "      <th>ranking</th>\n",
              "      <th>MONTHS_DEBT</th>\n",
              "    </tr>\n",
              "  </thead>\n",
              "  <tbody>\n",
              "    <tr>\n",
              "      <th>0</th>\n",
              "      <td>5002165</td>\n",
              "      <td>1</td>\n",
              "      <td>61</td>\n",
              "    </tr>\n",
              "    <tr>\n",
              "      <th>1</th>\n",
              "      <td>5005205</td>\n",
              "      <td>2</td>\n",
              "      <td>61</td>\n",
              "    </tr>\n",
              "    <tr>\n",
              "      <th>2</th>\n",
              "      <td>5048073</td>\n",
              "      <td>3</td>\n",
              "      <td>61</td>\n",
              "    </tr>\n",
              "    <tr>\n",
              "      <th>3</th>\n",
              "      <td>5048074</td>\n",
              "      <td>4</td>\n",
              "      <td>61</td>\n",
              "    </tr>\n",
              "    <tr>\n",
              "      <th>4</th>\n",
              "      <td>5060453</td>\n",
              "      <td>5</td>\n",
              "      <td>61</td>\n",
              "    </tr>\n",
              "    <tr>\n",
              "      <th>5</th>\n",
              "      <td>5085886</td>\n",
              "      <td>6</td>\n",
              "      <td>61</td>\n",
              "    </tr>\n",
              "    <tr>\n",
              "      <th>6</th>\n",
              "      <td>5120092</td>\n",
              "      <td>7</td>\n",
              "      <td>61</td>\n",
              "    </tr>\n",
              "    <tr>\n",
              "      <th>7</th>\n",
              "      <td>5120176</td>\n",
              "      <td>8</td>\n",
              "      <td>61</td>\n",
              "    </tr>\n",
              "    <tr>\n",
              "      <th>8</th>\n",
              "      <td>5003330</td>\n",
              "      <td>9</td>\n",
              "      <td>60</td>\n",
              "    </tr>\n",
              "    <tr>\n",
              "      <th>9</th>\n",
              "      <td>5004666</td>\n",
              "      <td>10</td>\n",
              "      <td>60</td>\n",
              "    </tr>\n",
              "  </tbody>\n",
              "</table>\n",
              "</div>"
            ],
            "text/plain": [
              "        ID  ranking  MONTHS_DEBT\n",
              "0  5002165        1           61\n",
              "1  5005205        2           61\n",
              "2  5048073        3           61\n",
              "3  5048074        4           61\n",
              "4  5060453        5           61\n",
              "5  5085886        6           61\n",
              "6  5120092        7           61\n",
              "7  5120176        8           61\n",
              "8  5003330        9           60\n",
              "9  5004666       10           60"
            ]
          },
          "execution_count": 59,
          "metadata": {},
          "output_type": "execute_result"
        }
      ],
      "source": [
        "%%bigquery\n",
        "\n",
        "WITH rank AS\n",
        "    (SELECT ID, count(*) AS MONTHS_DEBT\n",
        "     FROM `ba775-team-project-team3.creditcard.credit_record`\n",
        "     WHERE STATUS NOT IN ('C','X')\n",
        "     GROUP BY ID)\n",
        "SELECT ID,RANK() OVER(ORDER BY MONTHS_DEBT DESC,ID) AS ranking,MONTHS_DEBT\n",
        "FROM rank\n",
        "ORDER BY ranking\n",
        "LIMIT 10\n",
        "\n"
      ]
    },
    {
      "cell_type": "markdown",
      "id": "3cbb9c61-c3ea-4979-b542-06447dc5001c",
      "metadata": {
        "id": "3cbb9c61-c3ea-4979-b542-06447dc5001c"
      },
      "source": [
        "#### Q15. Comparing the distribution of level of incomes between people who had debt status and people who never had debt status\n"
      ]
    },
    {
      "cell_type": "code",
      "execution_count": null,
      "id": "f95050b5-6fc3-4ec9-9904-e37abd5c81e8",
      "metadata": {
        "id": "f95050b5-6fc3-4ec9-9904-e37abd5c81e8",
        "outputId": "8ab5bb6c-9fda-4267-a6d4-a6a7c84ae6f1"
      },
      "outputs": [
        {
          "name": "stderr",
          "output_type": "stream",
          "text": [
            "Query complete after 0.00s: 100%|██████████| 6/6 [00:00<00:00, 1568.75query/s]                        \n",
            "Downloading: 100%|██████████| 4/4 [00:01<00:00,  2.58rows/s]\n"
          ]
        },
        {
          "data": {
            "text/html": [
              "<div>\n",
              "<style scoped>\n",
              "    .dataframe tbody tr th:only-of-type {\n",
              "        vertical-align: middle;\n",
              "    }\n",
              "\n",
              "    .dataframe tbody tr th {\n",
              "        vertical-align: top;\n",
              "    }\n",
              "\n",
              "    .dataframe thead th {\n",
              "        text-align: right;\n",
              "    }\n",
              "</style>\n",
              "<table border=\"1\" class=\"dataframe\">\n",
              "  <thead>\n",
              "    <tr style=\"text-align: right;\">\n",
              "      <th></th>\n",
              "      <th>LVL_INCOME</th>\n",
              "      <th>DISTRIBUTION</th>\n",
              "    </tr>\n",
              "  </thead>\n",
              "  <tbody>\n",
              "    <tr>\n",
              "      <th>0</th>\n",
              "      <td>UPPER MIDDLE</td>\n",
              "      <td>54.61</td>\n",
              "    </tr>\n",
              "    <tr>\n",
              "      <th>1</th>\n",
              "      <td>LOWER MIDDLE</td>\n",
              "      <td>26.70</td>\n",
              "    </tr>\n",
              "    <tr>\n",
              "      <th>2</th>\n",
              "      <td>HIGH</td>\n",
              "      <td>17.79</td>\n",
              "    </tr>\n",
              "    <tr>\n",
              "      <th>3</th>\n",
              "      <td>LOW</td>\n",
              "      <td>0.89</td>\n",
              "    </tr>\n",
              "  </tbody>\n",
              "</table>\n",
              "</div>"
            ],
            "text/plain": [
              "     LVL_INCOME  DISTRIBUTION\n",
              "0  UPPER MIDDLE         54.61\n",
              "1  LOWER MIDDLE         26.70\n",
              "2          HIGH         17.79\n",
              "3           LOW          0.89"
            ]
          },
          "execution_count": 87,
          "metadata": {},
          "output_type": "execute_result"
        }
      ],
      "source": [
        "%%bigquery\n",
        "SELECT\n",
        "CASE\n",
        "WHEN AMT_INCOME_TOTAL <= 50000 THEN 'LOW'\n",
        "WHEN AMT_INCOME_TOTAL BETWEEN 50000 AND 130000 THEN 'LOWER MIDDLE'\n",
        "WHEN AMT_INCOME_TOTAL BETWEEN 130000 AND 250000 THEN 'UPPER MIDDLE'\n",
        "WHEN AMT_INCOME_TOTAL >250000 THEN 'HIGH' END AS LVL_INCOME,\n",
        "ROUND(COUNT(*)/32002*100,2) AS DISTRIBUTION\n",
        "FROM `ba775-team-project-team3.creditcard.application_record` AS c\n",
        "WHERE ID IN (SELECT ID FROM\n",
        "                        (WITH rank AS\n",
        "                                (SELECT ID, count(*) AS MONTHS_DEBT\n",
        "                                 FROM `ba775-team-project-team3.creditcard.credit_record`\n",
        "                                 WHERE STATUS NOT IN ('C','X')\n",
        "                                 GROUP BY ID)\n",
        "                         SELECT ID,RANK() OVER(ORDER BY MONTHS_DEBT DESC,ID) AS ranking,MONTHS_DEBT\n",
        "                         FROM rank))\n",
        "\n",
        "GROUP BY LVL_INCOME\n",
        "ORDER BY DISTRIBUTION DESC"
      ]
    },
    {
      "cell_type": "code",
      "execution_count": null,
      "id": "d8139bab-4590-43a8-a038-96fc2c26183b",
      "metadata": {
        "id": "d8139bab-4590-43a8-a038-96fc2c26183b",
        "outputId": "c706ae74-7c7b-4baf-be23-8eb2a1c8497d"
      },
      "outputs": [
        {
          "name": "stderr",
          "output_type": "stream",
          "text": [
            "Query complete after 0.00s: 100%|██████████| 6/6 [00:00<00:00, 3173.50query/s]                        \n",
            "Downloading: 100%|██████████| 4/4 [00:01<00:00,  2.82rows/s]\n"
          ]
        },
        {
          "data": {
            "text/html": [
              "<div>\n",
              "<style scoped>\n",
              "    .dataframe tbody tr th:only-of-type {\n",
              "        vertical-align: middle;\n",
              "    }\n",
              "\n",
              "    .dataframe tbody tr th {\n",
              "        vertical-align: top;\n",
              "    }\n",
              "\n",
              "    .dataframe thead th {\n",
              "        text-align: right;\n",
              "    }\n",
              "</style>\n",
              "<table border=\"1\" class=\"dataframe\">\n",
              "  <thead>\n",
              "    <tr style=\"text-align: right;\">\n",
              "      <th></th>\n",
              "      <th>LVL_INCOME</th>\n",
              "      <th>DISTRIBUTION</th>\n",
              "    </tr>\n",
              "  </thead>\n",
              "  <tbody>\n",
              "    <tr>\n",
              "      <th>0</th>\n",
              "      <td>UPPER MIDDLE</td>\n",
              "      <td>53.91</td>\n",
              "    </tr>\n",
              "    <tr>\n",
              "      <th>1</th>\n",
              "      <td>LOWER MIDDLE</td>\n",
              "      <td>27.51</td>\n",
              "    </tr>\n",
              "    <tr>\n",
              "      <th>2</th>\n",
              "      <td>HIGH</td>\n",
              "      <td>17.58</td>\n",
              "    </tr>\n",
              "    <tr>\n",
              "      <th>3</th>\n",
              "      <td>LOW</td>\n",
              "      <td>1.00</td>\n",
              "    </tr>\n",
              "  </tbody>\n",
              "</table>\n",
              "</div>"
            ],
            "text/plain": [
              "     LVL_INCOME  DISTRIBUTION\n",
              "0  UPPER MIDDLE         53.91\n",
              "1  LOWER MIDDLE         27.51\n",
              "2          HIGH         17.58\n",
              "3           LOW          1.00"
            ]
          },
          "execution_count": 86,
          "metadata": {},
          "output_type": "execute_result"
        }
      ],
      "source": [
        "%%bigquery\n",
        "## Distribution of lvl of income for people who never had debt status\n",
        "SELECT\n",
        "CASE\n",
        " WHEN AMT_INCOME_TOTAL <= 50000 THEN 'LOW'\n",
        " WHEN AMT_INCOME_TOTAL BETWEEN 50000 AND 130000 THEN 'LOWER MIDDLE'\n",
        " WHEN AMT_INCOME_TOTAL BETWEEN 130000 AND 250000 THEN 'UPPER MIDDLE'\n",
        " WHEN AMT_INCOME_TOTAL >250000 THEN 'HIGH' END AS LVL_INCOME,\n",
        "ROUND(COUNT(*)/17950 * 100,2) AS DISTRIBUTION\n",
        "FROM `ba775-team-project-team3.creditcard.application_record` AS c\n",
        "WHERE ID IN (SELECT ID FROM\n",
        "                        (WITH rank AS\n",
        "                                (SELECT ID, count(*) AS MONTHS_NO_DEBT\n",
        "                                 FROM `ba775-team-project-team3.creditcard.credit_record`\n",
        "                                 WHERE STATUS = 'C'\n",
        "                                 GROUP BY ID)\n",
        "                         SELECT ID,RANK() OVER(ORDER BY MONTHS_NO_DEBT DESC,ID) AS ranking,MONTHS_NO_DEBT\n",
        "                         FROM rank))\n",
        "GROUP BY LVL_INCOME\n",
        "ORDER BY DISTRIBUTION DESC\n"
      ]
    },
    {
      "cell_type": "markdown",
      "id": "4cd07795-8f98-4d89-8a96-74d0c5d18bc1",
      "metadata": {
        "id": "4cd07795-8f98-4d89-8a96-74d0c5d18bc1"
      },
      "source": [
        "### Q16. Comparing occupation type and avegrage age in both tables"
      ]
    },
    {
      "cell_type": "code",
      "execution_count": null,
      "id": "eb186d0c-23d0-4318-9795-0d80cb33c553",
      "metadata": {
        "id": "eb186d0c-23d0-4318-9795-0d80cb33c553",
        "outputId": "1504eb66-2ea8-43db-bf43-9bb764b64dc2"
      },
      "outputs": [
        {
          "name": "stderr",
          "output_type": "stream",
          "text": [
            "Query complete after 0.00s: 100%|██████████| 8/8 [00:00<00:00, 1176.61query/s]                        \n",
            "Downloading: 100%|██████████| 19/19 [00:01<00:00, 10.35rows/s]\n"
          ]
        },
        {
          "data": {
            "text/html": [
              "<div>\n",
              "<style scoped>\n",
              "    .dataframe tbody tr th:only-of-type {\n",
              "        vertical-align: middle;\n",
              "    }\n",
              "\n",
              "    .dataframe tbody tr th {\n",
              "        vertical-align: top;\n",
              "    }\n",
              "\n",
              "    .dataframe thead th {\n",
              "        text-align: right;\n",
              "    }\n",
              "</style>\n",
              "<table border=\"1\" class=\"dataframe\">\n",
              "  <thead>\n",
              "    <tr style=\"text-align: right;\">\n",
              "      <th></th>\n",
              "      <th>OCCUPATION_TYPE</th>\n",
              "      <th>AP_avg_age</th>\n",
              "      <th>CR_avg_age</th>\n",
              "    </tr>\n",
              "  </thead>\n",
              "  <tbody>\n",
              "    <tr>\n",
              "      <th>0</th>\n",
              "      <td>None</td>\n",
              "      <td>51.23</td>\n",
              "      <td>50.95</td>\n",
              "    </tr>\n",
              "    <tr>\n",
              "      <th>1</th>\n",
              "      <td>Cleaning staff</td>\n",
              "      <td>47.88</td>\n",
              "      <td>48.22</td>\n",
              "    </tr>\n",
              "    <tr>\n",
              "      <th>2</th>\n",
              "      <td>Security staff</td>\n",
              "      <td>44.73</td>\n",
              "      <td>45.84</td>\n",
              "    </tr>\n",
              "    <tr>\n",
              "      <th>3</th>\n",
              "      <td>Medicine staff</td>\n",
              "      <td>42.88</td>\n",
              "      <td>43.50</td>\n",
              "    </tr>\n",
              "    <tr>\n",
              "      <th>4</th>\n",
              "      <td>Cooking staff</td>\n",
              "      <td>41.97</td>\n",
              "      <td>41.06</td>\n",
              "    </tr>\n",
              "    <tr>\n",
              "      <th>5</th>\n",
              "      <td>Managers</td>\n",
              "      <td>41.81</td>\n",
              "      <td>41.67</td>\n",
              "    </tr>\n",
              "    <tr>\n",
              "      <th>6</th>\n",
              "      <td>High skill tech staff</td>\n",
              "      <td>41.26</td>\n",
              "      <td>41.23</td>\n",
              "    </tr>\n",
              "    <tr>\n",
              "      <th>7</th>\n",
              "      <td>Drivers</td>\n",
              "      <td>40.95</td>\n",
              "      <td>40.84</td>\n",
              "    </tr>\n",
              "    <tr>\n",
              "      <th>8</th>\n",
              "      <td>Accountants</td>\n",
              "      <td>40.83</td>\n",
              "      <td>40.95</td>\n",
              "    </tr>\n",
              "    <tr>\n",
              "      <th>9</th>\n",
              "      <td>Realty agents</td>\n",
              "      <td>40.66</td>\n",
              "      <td>41.25</td>\n",
              "    </tr>\n",
              "    <tr>\n",
              "      <th>10</th>\n",
              "      <td>Laborers</td>\n",
              "      <td>40.29</td>\n",
              "      <td>40.08</td>\n",
              "    </tr>\n",
              "    <tr>\n",
              "      <th>11</th>\n",
              "      <td>Private service staff</td>\n",
              "      <td>39.94</td>\n",
              "      <td>41.56</td>\n",
              "    </tr>\n",
              "    <tr>\n",
              "      <th>12</th>\n",
              "      <td>Secretaries</td>\n",
              "      <td>39.66</td>\n",
              "      <td>41.85</td>\n",
              "    </tr>\n",
              "    <tr>\n",
              "      <th>13</th>\n",
              "      <td>HR staff</td>\n",
              "      <td>39.63</td>\n",
              "      <td>38.57</td>\n",
              "    </tr>\n",
              "    <tr>\n",
              "      <th>14</th>\n",
              "      <td>Core staff</td>\n",
              "      <td>38.89</td>\n",
              "      <td>38.78</td>\n",
              "    </tr>\n",
              "    <tr>\n",
              "      <th>15</th>\n",
              "      <td>Sales staff</td>\n",
              "      <td>38.64</td>\n",
              "      <td>38.41</td>\n",
              "    </tr>\n",
              "    <tr>\n",
              "      <th>16</th>\n",
              "      <td>Low-skill Laborers</td>\n",
              "      <td>38.63</td>\n",
              "      <td>41.40</td>\n",
              "    </tr>\n",
              "    <tr>\n",
              "      <th>17</th>\n",
              "      <td>Waiters/barmen staff</td>\n",
              "      <td>37.43</td>\n",
              "      <td>36.64</td>\n",
              "    </tr>\n",
              "    <tr>\n",
              "      <th>18</th>\n",
              "      <td>IT staff</td>\n",
              "      <td>37.18</td>\n",
              "      <td>35.15</td>\n",
              "    </tr>\n",
              "  </tbody>\n",
              "</table>\n",
              "</div>"
            ],
            "text/plain": [
              "          OCCUPATION_TYPE  AP_avg_age  CR_avg_age\n",
              "0                    None       51.23       50.95\n",
              "1          Cleaning staff       47.88       48.22\n",
              "2          Security staff       44.73       45.84\n",
              "3          Medicine staff       42.88       43.50\n",
              "4           Cooking staff       41.97       41.06\n",
              "5                Managers       41.81       41.67\n",
              "6   High skill tech staff       41.26       41.23\n",
              "7                 Drivers       40.95       40.84\n",
              "8             Accountants       40.83       40.95\n",
              "9           Realty agents       40.66       41.25\n",
              "10               Laborers       40.29       40.08\n",
              "11  Private service staff       39.94       41.56\n",
              "12            Secretaries       39.66       41.85\n",
              "13               HR staff       39.63       38.57\n",
              "14             Core staff       38.89       38.78\n",
              "15            Sales staff       38.64       38.41\n",
              "16     Low-skill Laborers       38.63       41.40\n",
              "17   Waiters/barmen staff       37.43       36.64\n",
              "18               IT staff       37.18       35.15"
            ]
          },
          "execution_count": 6,
          "metadata": {},
          "output_type": "execute_result"
        }
      ],
      "source": [
        "%%bigquery\n",
        " WITH a AS (\n",
        "  SELECT ID, OCCUPATION_TYPE, (DAYS_BIRTH/-365) AS AGE_CR\n",
        "  FROM `ba775-team-project-team3.creditcard.application_record`\n",
        "  WHERE ID IN (SELECT DISTINCT ID FROM `ba775-team-project-team3.creditcard.credit_record` )\n",
        " )\n",
        " SELECT b.OCCUPATION_TYPE, ROUND(AVG((b.DAYS_BIRTH)/-365),2) AS AP_avg_age, ROUND(AVG(a.AGE_CR),2) AS CR_avg_age\n",
        " FROM `ba775-team-project-team3.creditcard.application_record` b\n",
        " LEFT JOIN a\n",
        " USING(ID)\n",
        "GROUP BY b.OCCUPATION_TYPE\n",
        "ORDER BY AP_avg_age DESC;"
      ]
    },
    {
      "cell_type": "markdown",
      "id": "dd7c659e-4529-4126-9630-5dd411345a4a",
      "metadata": {
        "id": "dd7c659e-4529-4126-9630-5dd411345a4a"
      },
      "source": [
        "### Q17. Looking at the relationship of age and email in the application and credit tables and then comparing"
      ]
    },
    {
      "cell_type": "markdown",
      "id": "699111ca-9c0a-4eb6-8929-4fb8cdc2849e",
      "metadata": {
        "id": "699111ca-9c0a-4eb6-8929-4fb8cdc2849e"
      },
      "source": [
        "Creating view one"
      ]
    },
    {
      "cell_type": "code",
      "execution_count": null,
      "id": "04cde3a4-84cc-416f-970e-e429b4d3cd4a",
      "metadata": {
        "id": "04cde3a4-84cc-416f-970e-e429b4d3cd4a",
        "outputId": "7cca352e-aa3a-4979-c199-2069093657c8"
      },
      "outputs": [
        {
          "name": "stderr",
          "output_type": "stream",
          "text": [
            "Query complete after 0.00s: 100%|██████████| 1/1 [00:00<00:00, 540.85query/s] \n"
          ]
        },
        {
          "data": {
            "text/html": [
              "<div>\n",
              "<style scoped>\n",
              "    .dataframe tbody tr th:only-of-type {\n",
              "        vertical-align: middle;\n",
              "    }\n",
              "\n",
              "    .dataframe tbody tr th {\n",
              "        vertical-align: top;\n",
              "    }\n",
              "\n",
              "    .dataframe thead th {\n",
              "        text-align: right;\n",
              "    }\n",
              "</style>\n",
              "<table border=\"1\" class=\"dataframe\">\n",
              "  <thead>\n",
              "    <tr style=\"text-align: right;\">\n",
              "      <th></th>\n",
              "    </tr>\n",
              "  </thead>\n",
              "  <tbody>\n",
              "  </tbody>\n",
              "</table>\n",
              "</div>"
            ],
            "text/plain": [
              "Empty DataFrame\n",
              "Columns: []\n",
              "Index: []"
            ]
          },
          "execution_count": 9,
          "metadata": {},
          "output_type": "execute_result"
        }
      ],
      "source": [
        "%%bigquery\n",
        "CREATE OR REPLACE VIEW ba775-team-project-team3.creditcard.view_one AS\n",
        "    SELECT *, (DAYS_BIRTH/-365) AS AGE_YEARS, (DAYS_EMPLOYED/-365) AS YEARS_EMPLOYED,\n",
        "    CASE\n",
        "        WHEN (DAYS_BIRTH / -365) < 18 THEN 'under 18 years old'\n",
        "        WHEN (DAYS_BIRTH / -365) >= 18  AND (DAYS_BIRTH / -365) <= 24 THEN '18-24 years old'\n",
        "        WHEN (DAYS_BIRTH / -365) > 24  AND (DAYS_BIRTH / -365) <= 30 THEN '25-30 years old'\n",
        "        WHEN (DAYS_BIRTH / -365) > 30  AND (DAYS_BIRTH / -365) <= 40 THEN '30-40 years old'\n",
        "        WHEN (DAYS_BIRTH / -365) > 40  AND (DAYS_BIRTH / -365) <= 55 THEN '40-55 years old'\n",
        "        ELSE 'over 55 years old'\n",
        "    END AS years_birth_category,\n",
        "    CASE\n",
        "        WHEN AMT_INCOME_TOTAL <= 50000 THEN 'LOW'\n",
        "        WHEN AMT_INCOME_TOTAL BETWEEN 50000 AND 130000 THEN 'LOWER MIDDLE'\n",
        "        WHEN AMT_INCOME_TOTAL BETWEEN 130000 AND 250000 THEN 'UPPER MIDDLE'\n",
        "        WHEN AMT_INCOME_TOTAL >250000 THEN 'HIGH'\n",
        "    END AS LVL_INCOME\n",
        "    FROM `ba775-team-project-team3.creditcard.application_record`;"
      ]
    },
    {
      "cell_type": "markdown",
      "id": "ff796bba-b3d1-4b88-bdaa-d35765900c70",
      "metadata": {
        "id": "ff796bba-b3d1-4b88-bdaa-d35765900c70"
      },
      "source": [
        "Creating View two"
      ]
    },
    {
      "cell_type": "code",
      "execution_count": null,
      "id": "c96a1a8a-1871-4ab2-81c9-d12887550146",
      "metadata": {
        "id": "c96a1a8a-1871-4ab2-81c9-d12887550146",
        "outputId": "01e4acf9-74e1-4b94-fc6a-c1f15ae4de22"
      },
      "outputs": [
        {
          "name": "stderr",
          "output_type": "stream",
          "text": [
            "Query complete after 0.00s: 100%|██████████| 1/1 [00:00<00:00, 971.58query/s] \n"
          ]
        },
        {
          "data": {
            "text/html": [
              "<div>\n",
              "<style scoped>\n",
              "    .dataframe tbody tr th:only-of-type {\n",
              "        vertical-align: middle;\n",
              "    }\n",
              "\n",
              "    .dataframe tbody tr th {\n",
              "        vertical-align: top;\n",
              "    }\n",
              "\n",
              "    .dataframe thead th {\n",
              "        text-align: right;\n",
              "    }\n",
              "</style>\n",
              "<table border=\"1\" class=\"dataframe\">\n",
              "  <thead>\n",
              "    <tr style=\"text-align: right;\">\n",
              "      <th></th>\n",
              "    </tr>\n",
              "  </thead>\n",
              "  <tbody>\n",
              "  </tbody>\n",
              "</table>\n",
              "</div>"
            ],
            "text/plain": [
              "Empty DataFrame\n",
              "Columns: []\n",
              "Index: []"
            ]
          },
          "execution_count": 12,
          "metadata": {},
          "output_type": "execute_result"
        }
      ],
      "source": [
        "%%bigquery\n",
        "CREATE OR REPLACE VIEW ba775-team-project-team3.creditcard.view_two AS\n",
        "    SELECT *, (DAYS_BIRTH/-365) AS AGE_YEARS, (DAYS_EMPLOYED/-365) AS YEARS_EMPLOYED,\n",
        "    CASE\n",
        "        WHEN (DAYS_BIRTH / -365) < 18 THEN 'under 18 years old'\n",
        "        WHEN (DAYS_BIRTH / -365) >= 18  AND (DAYS_BIRTH / -365) <= 24 THEN '18-24 years old'\n",
        "        WHEN (DAYS_BIRTH / -365) > 24  AND (DAYS_BIRTH / -365) <= 30 THEN '25-30 years old'\n",
        "        WHEN (DAYS_BIRTH / -365) > 30  AND (DAYS_BIRTH / -365) <= 40 THEN '30-40 years old'\n",
        "        WHEN (DAYS_BIRTH / -365) > 40  AND (DAYS_BIRTH / -365) <= 55 THEN '40-55 years old'\n",
        "        ELSE 'over 55 years old'\n",
        "    END AS years_birth_category,\n",
        "    CASE\n",
        "        WHEN AMT_INCOME_TOTAL <= 50000 THEN 'LOW'\n",
        "        WHEN AMT_INCOME_TOTAL BETWEEN 50000 AND 130000 THEN 'LOWER MIDDLE'\n",
        "        WHEN AMT_INCOME_TOTAL BETWEEN 130000 AND 250000 THEN 'UPPER MIDDLE'\n",
        "        WHEN AMT_INCOME_TOTAL >250000 THEN 'HIGH'\n",
        "    END AS LVL_INCOME\n",
        "    FROM `ba775-team-project-team3.creditcard.application_record`\n",
        "    WHERE ID IN (SELECT DISTINCT ID FROM `ba775-team-project-team3.creditcard.credit_record`);"
      ]
    },
    {
      "cell_type": "markdown",
      "id": "232092a2-1263-408c-aa61-f53dc6902a20",
      "metadata": {
        "id": "232092a2-1263-408c-aa61-f53dc6902a20"
      },
      "source": [
        "Checking in table 1"
      ]
    },
    {
      "cell_type": "code",
      "execution_count": null,
      "id": "1917efb9-7e10-4189-9cb6-731fd4728b43",
      "metadata": {
        "id": "1917efb9-7e10-4189-9cb6-731fd4728b43",
        "outputId": "d84dff18-b594-4aca-d070-af9f2a7db798"
      },
      "outputs": [
        {
          "name": "stderr",
          "output_type": "stream",
          "text": [
            "Query complete after 0.00s: 100%|██████████| 5/5 [00:00<00:00, 2784.32query/s]                        \n",
            "Downloading: 100%|██████████| 10/10 [00:01<00:00,  6.10rows/s]\n"
          ]
        },
        {
          "data": {
            "text/html": [
              "<div>\n",
              "<style scoped>\n",
              "    .dataframe tbody tr th:only-of-type {\n",
              "        vertical-align: middle;\n",
              "    }\n",
              "\n",
              "    .dataframe tbody tr th {\n",
              "        vertical-align: top;\n",
              "    }\n",
              "\n",
              "    .dataframe thead th {\n",
              "        text-align: right;\n",
              "    }\n",
              "</style>\n",
              "<table border=\"1\" class=\"dataframe\">\n",
              "  <thead>\n",
              "    <tr style=\"text-align: right;\">\n",
              "      <th></th>\n",
              "      <th>years_birth_category</th>\n",
              "      <th>FLAG_EMAIL</th>\n",
              "      <th>num</th>\n",
              "      <th>Percent</th>\n",
              "    </tr>\n",
              "  </thead>\n",
              "  <tbody>\n",
              "    <tr>\n",
              "      <th>0</th>\n",
              "      <td>over 55 years old</td>\n",
              "      <td>0</td>\n",
              "      <td>86720</td>\n",
              "      <td>19.8</td>\n",
              "    </tr>\n",
              "    <tr>\n",
              "      <th>1</th>\n",
              "      <td>over 55 years old</td>\n",
              "      <td>1</td>\n",
              "      <td>5769</td>\n",
              "      <td>1.3</td>\n",
              "    </tr>\n",
              "    <tr>\n",
              "      <th>2</th>\n",
              "      <td>40-55 years old</td>\n",
              "      <td>1</td>\n",
              "      <td>16932</td>\n",
              "      <td>3.9</td>\n",
              "    </tr>\n",
              "    <tr>\n",
              "      <th>3</th>\n",
              "      <td>40-55 years old</td>\n",
              "      <td>0</td>\n",
              "      <td>146135</td>\n",
              "      <td>33.3</td>\n",
              "    </tr>\n",
              "    <tr>\n",
              "      <th>4</th>\n",
              "      <td>30-40 years old</td>\n",
              "      <td>0</td>\n",
              "      <td>109090</td>\n",
              "      <td>24.9</td>\n",
              "    </tr>\n",
              "    <tr>\n",
              "      <th>5</th>\n",
              "      <td>30-40 years old</td>\n",
              "      <td>1</td>\n",
              "      <td>15780</td>\n",
              "      <td>3.6</td>\n",
              "    </tr>\n",
              "    <tr>\n",
              "      <th>6</th>\n",
              "      <td>25-30 years old</td>\n",
              "      <td>1</td>\n",
              "      <td>7842</td>\n",
              "      <td>1.8</td>\n",
              "    </tr>\n",
              "    <tr>\n",
              "      <th>7</th>\n",
              "      <td>25-30 years old</td>\n",
              "      <td>0</td>\n",
              "      <td>44014</td>\n",
              "      <td>10.0</td>\n",
              "    </tr>\n",
              "    <tr>\n",
              "      <th>8</th>\n",
              "      <td>18-24 years old</td>\n",
              "      <td>0</td>\n",
              "      <td>5064</td>\n",
              "      <td>1.2</td>\n",
              "    </tr>\n",
              "    <tr>\n",
              "      <th>9</th>\n",
              "      <td>18-24 years old</td>\n",
              "      <td>1</td>\n",
              "      <td>1117</td>\n",
              "      <td>0.3</td>\n",
              "    </tr>\n",
              "  </tbody>\n",
              "</table>\n",
              "</div>"
            ],
            "text/plain": [
              "  years_birth_category  FLAG_EMAIL     num  Percent\n",
              "0    over 55 years old           0   86720     19.8\n",
              "1    over 55 years old           1    5769      1.3\n",
              "2      40-55 years old           1   16932      3.9\n",
              "3      40-55 years old           0  146135     33.3\n",
              "4      30-40 years old           0  109090     24.9\n",
              "5      30-40 years old           1   15780      3.6\n",
              "6      25-30 years old           1    7842      1.8\n",
              "7      25-30 years old           0   44014     10.0\n",
              "8      18-24 years old           0    5064      1.2\n",
              "9      18-24 years old           1    1117      0.3"
            ]
          },
          "execution_count": 15,
          "metadata": {},
          "output_type": "execute_result"
        }
      ],
      "source": [
        "%%bigquery\n",
        "SELECT years_birth_category, FLAG_EMAIL, COUNT(*) AS num,\n",
        "        ROUND((COUNT(*)/(SELECT COUNT(*) FROM ba775-team-project-team3.creditcard.view_one)*100),1) AS Percent\n",
        "FROM  ba775-team-project-team3.creditcard.view_one\n",
        "GROUP BY years_birth_category, FLAG_EMAIL\n",
        "ORDER BY years_birth_category DESC;"
      ]
    },
    {
      "cell_type": "markdown",
      "id": "b0552ab1-290a-4c77-afd0-e55ed823e8d4",
      "metadata": {
        "id": "b0552ab1-290a-4c77-afd0-e55ed823e8d4"
      },
      "source": [
        "Checking in table 2"
      ]
    },
    {
      "cell_type": "code",
      "execution_count": null,
      "id": "416a8bdb-1dbe-4e4e-b124-01ecde4eee67",
      "metadata": {
        "id": "416a8bdb-1dbe-4e4e-b124-01ecde4eee67",
        "outputId": "94e053db-f261-45c2-b3fb-369694731faf"
      },
      "outputs": [
        {
          "name": "stderr",
          "output_type": "stream",
          "text": [
            "Query complete after 0.00s: 100%|██████████| 11/11 [00:00<00:00, 5930.25query/s]                       \n",
            "Downloading: 100%|██████████| 10/10 [00:01<00:00,  7.29rows/s]\n"
          ]
        },
        {
          "data": {
            "text/html": [
              "<div>\n",
              "<style scoped>\n",
              "    .dataframe tbody tr th:only-of-type {\n",
              "        vertical-align: middle;\n",
              "    }\n",
              "\n",
              "    .dataframe tbody tr th {\n",
              "        vertical-align: top;\n",
              "    }\n",
              "\n",
              "    .dataframe thead th {\n",
              "        text-align: right;\n",
              "    }\n",
              "</style>\n",
              "<table border=\"1\" class=\"dataframe\">\n",
              "  <thead>\n",
              "    <tr style=\"text-align: right;\">\n",
              "      <th></th>\n",
              "      <th>years_birth_category</th>\n",
              "      <th>FLAG_EMAIL</th>\n",
              "      <th>num</th>\n",
              "      <th>Percent</th>\n",
              "    </tr>\n",
              "  </thead>\n",
              "  <tbody>\n",
              "    <tr>\n",
              "      <th>0</th>\n",
              "      <td>over 55 years old</td>\n",
              "      <td>0</td>\n",
              "      <td>7307</td>\n",
              "      <td>20.0</td>\n",
              "    </tr>\n",
              "    <tr>\n",
              "      <th>1</th>\n",
              "      <td>over 55 years old</td>\n",
              "      <td>1</td>\n",
              "      <td>380</td>\n",
              "      <td>1.0</td>\n",
              "    </tr>\n",
              "    <tr>\n",
              "      <th>2</th>\n",
              "      <td>40-55 years old</td>\n",
              "      <td>1</td>\n",
              "      <td>1079</td>\n",
              "      <td>3.0</td>\n",
              "    </tr>\n",
              "    <tr>\n",
              "      <th>3</th>\n",
              "      <td>40-55 years old</td>\n",
              "      <td>0</td>\n",
              "      <td>12324</td>\n",
              "      <td>33.8</td>\n",
              "    </tr>\n",
              "    <tr>\n",
              "      <th>4</th>\n",
              "      <td>30-40 years old</td>\n",
              "      <td>0</td>\n",
              "      <td>9340</td>\n",
              "      <td>25.6</td>\n",
              "    </tr>\n",
              "    <tr>\n",
              "      <th>5</th>\n",
              "      <td>30-40 years old</td>\n",
              "      <td>1</td>\n",
              "      <td>1099</td>\n",
              "      <td>3.0</td>\n",
              "    </tr>\n",
              "    <tr>\n",
              "      <th>6</th>\n",
              "      <td>25-30 years old</td>\n",
              "      <td>1</td>\n",
              "      <td>639</td>\n",
              "      <td>1.8</td>\n",
              "    </tr>\n",
              "    <tr>\n",
              "      <th>7</th>\n",
              "      <td>25-30 years old</td>\n",
              "      <td>0</td>\n",
              "      <td>3917</td>\n",
              "      <td>10.7</td>\n",
              "    </tr>\n",
              "    <tr>\n",
              "      <th>8</th>\n",
              "      <td>18-24 years old</td>\n",
              "      <td>0</td>\n",
              "      <td>298</td>\n",
              "      <td>0.8</td>\n",
              "    </tr>\n",
              "    <tr>\n",
              "      <th>9</th>\n",
              "      <td>18-24 years old</td>\n",
              "      <td>1</td>\n",
              "      <td>74</td>\n",
              "      <td>0.2</td>\n",
              "    </tr>\n",
              "  </tbody>\n",
              "</table>\n",
              "</div>"
            ],
            "text/plain": [
              "  years_birth_category  FLAG_EMAIL    num  Percent\n",
              "0    over 55 years old           0   7307     20.0\n",
              "1    over 55 years old           1    380      1.0\n",
              "2      40-55 years old           1   1079      3.0\n",
              "3      40-55 years old           0  12324     33.8\n",
              "4      30-40 years old           0   9340     25.6\n",
              "5      30-40 years old           1   1099      3.0\n",
              "6      25-30 years old           1    639      1.8\n",
              "7      25-30 years old           0   3917     10.7\n",
              "8      18-24 years old           0    298      0.8\n",
              "9      18-24 years old           1     74      0.2"
            ]
          },
          "execution_count": 16,
          "metadata": {},
          "output_type": "execute_result"
        }
      ],
      "source": [
        "%%bigquery\n",
        "SELECT years_birth_category, FLAG_EMAIL, COUNT(*) AS num,\n",
        "ROUND((COUNT(*)/(SELECT COUNT(*) FROM ba775-team-project-team3.creditcard.view_two)*100),1) AS Percent\n",
        "FROM ba775-team-project-team3.creditcard.view_two\n",
        "GROUP BY years_birth_category, FLAG_EMAIL\n",
        "ORDER BY years_birth_category DESC;"
      ]
    },
    {
      "cell_type": "markdown",
      "id": "3d785dc0-bcc5-4f40-a178-299a9a9d8df0",
      "metadata": {
        "id": "3d785dc0-bcc5-4f40-a178-299a9a9d8df0"
      },
      "source": [
        "### Q18. Comparing the house type, count of children and car ownership in both the application and credit dataset to identify any geographical difference between loan applicants and approved candidates"
      ]
    },
    {
      "cell_type": "code",
      "execution_count": null,
      "id": "6ce91c99-f271-4c45-a72b-537362ba9ea1",
      "metadata": {
        "id": "6ce91c99-f271-4c45-a72b-537362ba9ea1",
        "outputId": "87143dfc-8e67-4df7-e797-af357d983a6f"
      },
      "outputs": [
        {
          "name": "stderr",
          "output_type": "stream",
          "text": [
            "Query complete after 0.00s: 100%|██████████| 5/5 [00:00<00:00, 2802.56query/s]                        \n",
            "Downloading: 100%|██████████| 12/12 [00:01<00:00,  7.74rows/s]\n"
          ]
        },
        {
          "data": {
            "text/html": [
              "<div>\n",
              "<style scoped>\n",
              "    .dataframe tbody tr th:only-of-type {\n",
              "        vertical-align: middle;\n",
              "    }\n",
              "\n",
              "    .dataframe tbody tr th {\n",
              "        vertical-align: top;\n",
              "    }\n",
              "\n",
              "    .dataframe thead th {\n",
              "        text-align: right;\n",
              "    }\n",
              "</style>\n",
              "<table border=\"1\" class=\"dataframe\">\n",
              "  <thead>\n",
              "    <tr style=\"text-align: right;\">\n",
              "      <th></th>\n",
              "      <th>NAME_HOUSING_TYPE</th>\n",
              "      <th>Avg_children_cnt</th>\n",
              "      <th>FLAG_OWN_CAR</th>\n",
              "      <th>num</th>\n",
              "      <th>percent</th>\n",
              "    </tr>\n",
              "  </thead>\n",
              "  <tbody>\n",
              "    <tr>\n",
              "      <th>0</th>\n",
              "      <td>Co-op apartment</td>\n",
              "      <td>0.39</td>\n",
              "      <td>False</td>\n",
              "      <td>788</td>\n",
              "      <td>0.2</td>\n",
              "    </tr>\n",
              "    <tr>\n",
              "      <th>1</th>\n",
              "      <td>Co-op apartment</td>\n",
              "      <td>0.79</td>\n",
              "      <td>True</td>\n",
              "      <td>751</td>\n",
              "      <td>0.2</td>\n",
              "    </tr>\n",
              "    <tr>\n",
              "      <th>2</th>\n",
              "      <td>House / apartment</td>\n",
              "      <td>0.36</td>\n",
              "      <td>False</td>\n",
              "      <td>246947</td>\n",
              "      <td>56.3</td>\n",
              "    </tr>\n",
              "    <tr>\n",
              "      <th>3</th>\n",
              "      <td>House / apartment</td>\n",
              "      <td>0.53</td>\n",
              "      <td>True</td>\n",
              "      <td>146801</td>\n",
              "      <td>33.5</td>\n",
              "    </tr>\n",
              "    <tr>\n",
              "      <th>4</th>\n",
              "      <td>Municipal apartment</td>\n",
              "      <td>0.33</td>\n",
              "      <td>False</td>\n",
              "      <td>10185</td>\n",
              "      <td>2.3</td>\n",
              "    </tr>\n",
              "    <tr>\n",
              "      <th>5</th>\n",
              "      <td>Municipal apartment</td>\n",
              "      <td>0.53</td>\n",
              "      <td>True</td>\n",
              "      <td>4026</td>\n",
              "      <td>0.9</td>\n",
              "    </tr>\n",
              "    <tr>\n",
              "      <th>6</th>\n",
              "      <td>Office apartment</td>\n",
              "      <td>0.45</td>\n",
              "      <td>False</td>\n",
              "      <td>2191</td>\n",
              "      <td>0.5</td>\n",
              "    </tr>\n",
              "    <tr>\n",
              "      <th>7</th>\n",
              "      <td>Office apartment</td>\n",
              "      <td>0.69</td>\n",
              "      <td>True</td>\n",
              "      <td>1729</td>\n",
              "      <td>0.4</td>\n",
              "    </tr>\n",
              "    <tr>\n",
              "      <th>8</th>\n",
              "      <td>Rented apartment</td>\n",
              "      <td>0.46</td>\n",
              "      <td>False</td>\n",
              "      <td>3813</td>\n",
              "      <td>0.9</td>\n",
              "    </tr>\n",
              "    <tr>\n",
              "      <th>9</th>\n",
              "      <td>Rented apartment</td>\n",
              "      <td>0.57</td>\n",
              "      <td>True</td>\n",
              "      <td>2160</td>\n",
              "      <td>0.5</td>\n",
              "    </tr>\n",
              "    <tr>\n",
              "      <th>10</th>\n",
              "      <td>With parents</td>\n",
              "      <td>0.48</td>\n",
              "      <td>False</td>\n",
              "      <td>11472</td>\n",
              "      <td>2.6</td>\n",
              "    </tr>\n",
              "    <tr>\n",
              "      <th>11</th>\n",
              "      <td>With parents</td>\n",
              "      <td>0.54</td>\n",
              "      <td>True</td>\n",
              "      <td>7600</td>\n",
              "      <td>1.7</td>\n",
              "    </tr>\n",
              "  </tbody>\n",
              "</table>\n",
              "</div>"
            ],
            "text/plain": [
              "      NAME_HOUSING_TYPE  Avg_children_cnt  FLAG_OWN_CAR     num  percent\n",
              "0       Co-op apartment              0.39         False     788      0.2\n",
              "1       Co-op apartment              0.79          True     751      0.2\n",
              "2     House / apartment              0.36         False  246947     56.3\n",
              "3     House / apartment              0.53          True  146801     33.5\n",
              "4   Municipal apartment              0.33         False   10185      2.3\n",
              "5   Municipal apartment              0.53          True    4026      0.9\n",
              "6      Office apartment              0.45         False    2191      0.5\n",
              "7      Office apartment              0.69          True    1729      0.4\n",
              "8      Rented apartment              0.46         False    3813      0.9\n",
              "9      Rented apartment              0.57          True    2160      0.5\n",
              "10         With parents              0.48         False   11472      2.6\n",
              "11         With parents              0.54          True    7600      1.7"
            ]
          },
          "execution_count": 17,
          "metadata": {},
          "output_type": "execute_result"
        }
      ],
      "source": [
        "%%bigquery\n",
        "SELECT NAME_HOUSING_TYPE, ROUND(AVG(CNT_CHILDREN),2) AS Avg_children_cnt, FLAG_OWN_CAR, COUNT(*) AS num,\n",
        "ROUND((COUNT(*)/(SELECT COUNT(*) FROM ba775-team-project-team3.creditcard.view_one)*100),1) AS percent\n",
        "FROM ba775-team-project-team3.creditcard.view_one\n",
        "GROUP BY NAME_HOUSING_TYPE, FLAG_OWN_CAR\n",
        "ORDER BY NAME_HOUSING_TYPE;"
      ]
    },
    {
      "cell_type": "code",
      "execution_count": null,
      "id": "71b87baf-2ac3-46c7-8ea5-70f1a1a94db9",
      "metadata": {
        "id": "71b87baf-2ac3-46c7-8ea5-70f1a1a94db9",
        "outputId": "16cc06bc-05b5-4a6e-8bd3-89c49b73edb7"
      },
      "outputs": [
        {
          "name": "stderr",
          "output_type": "stream",
          "text": [
            "Query complete after 0.00s: 100%|██████████| 11/11 [00:00<00:00, 4871.43query/s]                       \n",
            "Downloading: 100%|██████████| 12/12 [00:01<00:00,  7.10rows/s]\n"
          ]
        },
        {
          "data": {
            "text/html": [
              "<div>\n",
              "<style scoped>\n",
              "    .dataframe tbody tr th:only-of-type {\n",
              "        vertical-align: middle;\n",
              "    }\n",
              "\n",
              "    .dataframe tbody tr th {\n",
              "        vertical-align: top;\n",
              "    }\n",
              "\n",
              "    .dataframe thead th {\n",
              "        text-align: right;\n",
              "    }\n",
              "</style>\n",
              "<table border=\"1\" class=\"dataframe\">\n",
              "  <thead>\n",
              "    <tr style=\"text-align: right;\">\n",
              "      <th></th>\n",
              "      <th>NAME_HOUSING_TYPE</th>\n",
              "      <th>Avg_children_cnt</th>\n",
              "      <th>FLAG_OWN_CAR</th>\n",
              "      <th>num</th>\n",
              "      <th>percent</th>\n",
              "    </tr>\n",
              "  </thead>\n",
              "  <tbody>\n",
              "    <tr>\n",
              "      <th>0</th>\n",
              "      <td>Co-op apartment</td>\n",
              "      <td>0.58</td>\n",
              "      <td>False</td>\n",
              "      <td>73</td>\n",
              "      <td>0.2</td>\n",
              "    </tr>\n",
              "    <tr>\n",
              "      <th>1</th>\n",
              "      <td>Co-op apartment</td>\n",
              "      <td>0.80</td>\n",
              "      <td>True</td>\n",
              "      <td>95</td>\n",
              "      <td>0.3</td>\n",
              "    </tr>\n",
              "    <tr>\n",
              "      <th>2</th>\n",
              "      <td>House / apartment</td>\n",
              "      <td>0.36</td>\n",
              "      <td>False</td>\n",
              "      <td>20262</td>\n",
              "      <td>55.6</td>\n",
              "    </tr>\n",
              "    <tr>\n",
              "      <th>3</th>\n",
              "      <td>House / apartment</td>\n",
              "      <td>0.53</td>\n",
              "      <td>True</td>\n",
              "      <td>12286</td>\n",
              "      <td>33.7</td>\n",
              "    </tr>\n",
              "    <tr>\n",
              "      <th>4</th>\n",
              "      <td>Municipal apartment</td>\n",
              "      <td>0.38</td>\n",
              "      <td>False</td>\n",
              "      <td>765</td>\n",
              "      <td>2.1</td>\n",
              "    </tr>\n",
              "    <tr>\n",
              "      <th>5</th>\n",
              "      <td>Municipal apartment</td>\n",
              "      <td>0.45</td>\n",
              "      <td>True</td>\n",
              "      <td>363</td>\n",
              "      <td>1.0</td>\n",
              "    </tr>\n",
              "    <tr>\n",
              "      <th>6</th>\n",
              "      <td>Office apartment</td>\n",
              "      <td>0.47</td>\n",
              "      <td>False</td>\n",
              "      <td>137</td>\n",
              "      <td>0.4</td>\n",
              "    </tr>\n",
              "    <tr>\n",
              "      <th>7</th>\n",
              "      <td>Office apartment</td>\n",
              "      <td>0.82</td>\n",
              "      <td>True</td>\n",
              "      <td>125</td>\n",
              "      <td>0.3</td>\n",
              "    </tr>\n",
              "    <tr>\n",
              "      <th>8</th>\n",
              "      <td>Rented apartment</td>\n",
              "      <td>0.27</td>\n",
              "      <td>False</td>\n",
              "      <td>352</td>\n",
              "      <td>1.0</td>\n",
              "    </tr>\n",
              "    <tr>\n",
              "      <th>9</th>\n",
              "      <td>Rented apartment</td>\n",
              "      <td>0.51</td>\n",
              "      <td>True</td>\n",
              "      <td>223</td>\n",
              "      <td>0.6</td>\n",
              "    </tr>\n",
              "    <tr>\n",
              "      <th>10</th>\n",
              "      <td>With parents</td>\n",
              "      <td>0.52</td>\n",
              "      <td>False</td>\n",
              "      <td>1025</td>\n",
              "      <td>2.8</td>\n",
              "    </tr>\n",
              "    <tr>\n",
              "      <th>11</th>\n",
              "      <td>With parents</td>\n",
              "      <td>0.53</td>\n",
              "      <td>True</td>\n",
              "      <td>751</td>\n",
              "      <td>2.1</td>\n",
              "    </tr>\n",
              "  </tbody>\n",
              "</table>\n",
              "</div>"
            ],
            "text/plain": [
              "      NAME_HOUSING_TYPE  Avg_children_cnt  FLAG_OWN_CAR    num  percent\n",
              "0       Co-op apartment              0.58         False     73      0.2\n",
              "1       Co-op apartment              0.80          True     95      0.3\n",
              "2     House / apartment              0.36         False  20262     55.6\n",
              "3     House / apartment              0.53          True  12286     33.7\n",
              "4   Municipal apartment              0.38         False    765      2.1\n",
              "5   Municipal apartment              0.45          True    363      1.0\n",
              "6      Office apartment              0.47         False    137      0.4\n",
              "7      Office apartment              0.82          True    125      0.3\n",
              "8      Rented apartment              0.27         False    352      1.0\n",
              "9      Rented apartment              0.51          True    223      0.6\n",
              "10         With parents              0.52         False   1025      2.8\n",
              "11         With parents              0.53          True    751      2.1"
            ]
          },
          "execution_count": 18,
          "metadata": {},
          "output_type": "execute_result"
        }
      ],
      "source": [
        "%%bigquery\n",
        "SELECT NAME_HOUSING_TYPE, ROUND(AVG(CNT_CHILDREN),2) AS Avg_children_cnt, FLAG_OWN_CAR, COUNT(*) AS num,\n",
        "ROUND((COUNT(*)/(SELECT COUNT(*) FROM ba775-team-project-team3.creditcard.view_two)*100),1) AS percent\n",
        "FROM ba775-team-project-team3.creditcard.view_two\n",
        "GROUP BY NAME_HOUSING_TYPE, FLAG_OWN_CAR\n",
        "ORDER BY NAME_HOUSING_TYPE;"
      ]
    },
    {
      "cell_type": "markdown",
      "id": "596fe6c4-50f2-4894-8d64-4e36bcf4c8f6",
      "metadata": {
        "id": "596fe6c4-50f2-4894-8d64-4e36bcf4c8f6"
      },
      "source": [
        "### 7. Dashboard"
      ]
    },
    {
      "cell_type": "markdown",
      "id": "6e27e608-ede1-4645-9927-8e3662606faa",
      "metadata": {
        "id": "6e27e608-ede1-4645-9927-8e3662606faa"
      },
      "source": [
        "![image.png](attachment:b3a87971-8063-4f5f-8a18-e7a073605d7f.png)"
      ]
    },
    {
      "cell_type": "markdown",
      "id": "f034abf4-0cb3-4a3e-98d7-848800b09d7b",
      "metadata": {
        "id": "f034abf4-0cb3-4a3e-98d7-848800b09d7b"
      },
      "source": [
        "LINK:https://public.tableau.com/views/BA775Team3ProjectDashboard/PredictiveAnalysisforCreditCardApplications?:language=zh-CN&publish=yes&:display_count=n&:origin=viz_share_link"
      ]
    },
    {
      "cell_type": "markdown",
      "id": "fdc73b00-cd8f-4d6e-8343-5ba46202e9a3",
      "metadata": {
        "id": "fdc73b00-cd8f-4d6e-8343-5ba46202e9a3"
      },
      "source": [
        "### 8. Conclusion"
      ]
    },
    {
      "cell_type": "markdown",
      "id": "f8cfdbb6-4c4e-4760-b18b-c635b3e6ff17",
      "metadata": {
        "id": "f8cfdbb6-4c4e-4760-b18b-c635b3e6ff17"
      },
      "source": [
        "The credit card application analysis conducted by our team was completed successfully and as intended. Our motive for the project was to analyze and compare the data of the applicants applying for a credit card with the dataset of the people that already had a credit card. Our observation was that there wasn’t a significant difference in the demographics of the people that applied and those that got the credit card. However, we did notice some finer differences which proved to be insightful. The variables that were included in the dataset also gave us a detailed understanding of the kind of factors considered in the credit card industry."
      ]
    }
  ],
  "metadata": {
    "environment": {
      "kernel": "python3",
      "name": "common-cpu.m97",
      "type": "gcloud",
      "uri": "gcr.io/deeplearning-platform-release/base-cpu:m97"
    },
    "kernelspec": {
      "display_name": "Python 3",
      "language": "python",
      "name": "python3"
    },
    "language_info": {
      "codemirror_mode": {
        "name": "ipython",
        "version": 3
      },
      "file_extension": ".py",
      "mimetype": "text/x-python",
      "name": "python",
      "nbconvert_exporter": "python",
      "pygments_lexer": "ipython3",
      "version": "3.7.12"
    },
    "colab": {
      "provenance": []
    }
  },
  "nbformat": 4,
  "nbformat_minor": 5
}